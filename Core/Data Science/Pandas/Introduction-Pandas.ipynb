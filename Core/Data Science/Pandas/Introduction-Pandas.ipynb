{
 "cells": [
  {
   "metadata": {},
   "cell_type": "markdown",
   "source": "# Series",
   "id": "dfd3db6d19fbf321"
  },
  {
   "cell_type": "code",
   "id": "initial_id",
   "metadata": {
    "collapsed": true,
    "ExecuteTime": {
     "end_time": "2025-09-06T08:30:28.205972Z",
     "start_time": "2025-09-06T08:30:28.202809Z"
    }
   },
   "source": [
    "import pandas as pd\n",
    "import numpy as np"
   ],
   "outputs": [],
   "execution_count": 49
  },
  {
   "metadata": {
    "ExecuteTime": {
     "end_time": "2025-09-06T08:30:28.220947Z",
     "start_time": "2025-09-06T08:30:28.218989Z"
    }
   },
   "cell_type": "code",
   "source": [
    "grades = {\n",
    "            \"Atıl\": 50,\n",
    "            \"James\": 60,\n",
    "            \"Lars\": 30\n",
    "          }"
   ],
   "id": "180e8be8ea4eeeb7",
   "outputs": [],
   "execution_count": 50
  },
  {
   "metadata": {
    "ExecuteTime": {
     "end_time": "2025-09-06T08:30:28.230184Z",
     "start_time": "2025-09-06T08:30:28.227185Z"
    }
   },
   "cell_type": "code",
   "source": "pd.Series(grades)",
   "id": "d1c3b39816af84c9",
   "outputs": [
    {
     "data": {
      "text/plain": [
       "Atıl     50\n",
       "James    60\n",
       "Lars     30\n",
       "dtype: int64"
      ]
     },
     "execution_count": 51,
     "metadata": {},
     "output_type": "execute_result"
    }
   ],
   "execution_count": 51
  },
  {
   "metadata": {
    "ExecuteTime": {
     "end_time": "2025-09-06T08:30:28.243618Z",
     "start_time": "2025-09-06T08:30:28.238822Z"
    }
   },
   "cell_type": "code",
   "source": [
    "contest1 = pd.Series(data=[10,5,100], index=['A','B','C'])\n",
    "contest2 = pd.Series(data=[50,35,40], index=['A','B','C'])\n",
    "contest3 = contest1 + contest2\n",
    "contest3"
   ],
   "id": "3cf157085634fa3c",
   "outputs": [
    {
     "data": {
      "text/plain": [
       "A     60\n",
       "B     40\n",
       "C    140\n",
       "dtype: int64"
      ]
     },
     "execution_count": 52,
     "metadata": {},
     "output_type": "execute_result"
    }
   ],
   "execution_count": 52
  },
  {
   "metadata": {
    "ExecuteTime": {
     "end_time": "2025-09-06T08:30:28.252936Z",
     "start_time": "2025-09-06T08:30:28.249122Z"
    }
   },
   "cell_type": "code",
   "source": [
    "different_series = pd.Series(data=[20,30,40], index=['A','B','D']) # D is not in contest2\n",
    "new_series = different_series + contest2 # D is not in contest2, so it will be NaN\n",
    "new_series # NaN means Not a Number"
   ],
   "id": "89f91e2020263c61",
   "outputs": [
    {
     "data": {
      "text/plain": [
       "A    70.0\n",
       "B    65.0\n",
       "C     NaN\n",
       "D     NaN\n",
       "dtype: float64"
      ]
     },
     "execution_count": 53,
     "metadata": {},
     "output_type": "execute_result"
    }
   ],
   "execution_count": 53
  },
  {
   "metadata": {},
   "cell_type": "markdown",
   "source": "# DataFrame",
   "id": "3a169cbf5b546aa7"
  },
  {
   "metadata": {
    "ExecuteTime": {
     "end_time": "2025-09-06T08:30:28.262554Z",
     "start_time": "2025-09-06T08:30:28.260431Z"
    }
   },
   "cell_type": "code",
   "source": "data = np.random.randn(4,3)",
   "id": "fc0431cc0b1e2f12",
   "outputs": [],
   "execution_count": 54
  },
  {
   "metadata": {
    "ExecuteTime": {
     "end_time": "2025-09-06T08:30:28.272055Z",
     "start_time": "2025-09-06T08:30:28.269506Z"
    }
   },
   "cell_type": "code",
   "source": "data",
   "id": "dbaa8aeed7a8998a",
   "outputs": [
    {
     "data": {
      "text/plain": [
       "array([[ 0.61153411,  0.96766356,  0.14679563],\n",
       "       [-1.24993968, -0.66431773,  0.28833649],\n",
       "       [ 0.16182811, -0.05420079, -1.70803619],\n",
       "       [ 0.49221681, -1.24593247, -0.02649033]])"
      ]
     },
     "execution_count": 55,
     "metadata": {},
     "output_type": "execute_result"
    }
   ],
   "execution_count": 55
  },
  {
   "metadata": {
    "ExecuteTime": {
     "end_time": "2025-09-06T08:30:28.283936Z",
     "start_time": "2025-09-06T08:30:28.281466Z"
    }
   },
   "cell_type": "code",
   "source": "df = pd.DataFrame(data, columns=['Column1', 'Column2', 'Column3'], index=['Row1', 'Row2', 'Row3', 'Row4'])",
   "id": "654b2085e4a3b2f7",
   "outputs": [],
   "execution_count": 56
  },
  {
   "metadata": {
    "ExecuteTime": {
     "end_time": "2025-09-06T08:30:28.295377Z",
     "start_time": "2025-09-06T08:30:28.290594Z"
    }
   },
   "cell_type": "code",
   "source": "df",
   "id": "8857daf7afc1c59f",
   "outputs": [
    {
     "data": {
      "text/plain": [
       "       Column1   Column2   Column3\n",
       "Row1  0.611534  0.967664  0.146796\n",
       "Row2 -1.249940 -0.664318  0.288336\n",
       "Row3  0.161828 -0.054201 -1.708036\n",
       "Row4  0.492217 -1.245932 -0.026490"
      ],
      "text/html": [
       "<div>\n",
       "<style scoped>\n",
       "    .dataframe tbody tr th:only-of-type {\n",
       "        vertical-align: middle;\n",
       "    }\n",
       "\n",
       "    .dataframe tbody tr th {\n",
       "        vertical-align: top;\n",
       "    }\n",
       "\n",
       "    .dataframe thead th {\n",
       "        text-align: right;\n",
       "    }\n",
       "</style>\n",
       "<table border=\"1\" class=\"dataframe\">\n",
       "  <thead>\n",
       "    <tr style=\"text-align: right;\">\n",
       "      <th></th>\n",
       "      <th>Column1</th>\n",
       "      <th>Column2</th>\n",
       "      <th>Column3</th>\n",
       "    </tr>\n",
       "  </thead>\n",
       "  <tbody>\n",
       "    <tr>\n",
       "      <th>Row1</th>\n",
       "      <td>0.611534</td>\n",
       "      <td>0.967664</td>\n",
       "      <td>0.146796</td>\n",
       "    </tr>\n",
       "    <tr>\n",
       "      <th>Row2</th>\n",
       "      <td>-1.249940</td>\n",
       "      <td>-0.664318</td>\n",
       "      <td>0.288336</td>\n",
       "    </tr>\n",
       "    <tr>\n",
       "      <th>Row3</th>\n",
       "      <td>0.161828</td>\n",
       "      <td>-0.054201</td>\n",
       "      <td>-1.708036</td>\n",
       "    </tr>\n",
       "    <tr>\n",
       "      <th>Row4</th>\n",
       "      <td>0.492217</td>\n",
       "      <td>-1.245932</td>\n",
       "      <td>-0.026490</td>\n",
       "    </tr>\n",
       "  </tbody>\n",
       "</table>\n",
       "</div>"
      ]
     },
     "execution_count": 57,
     "metadata": {},
     "output_type": "execute_result"
    }
   ],
   "execution_count": 57
  },
  {
   "metadata": {
    "ExecuteTime": {
     "end_time": "2025-09-06T08:30:28.317527Z",
     "start_time": "2025-09-06T08:30:28.314170Z"
    }
   },
   "cell_type": "code",
   "source": "df['Column1'] # Accessing a single column",
   "id": "e331621896dcbf9e",
   "outputs": [
    {
     "data": {
      "text/plain": [
       "Row1    0.611534\n",
       "Row2   -1.249940\n",
       "Row3    0.161828\n",
       "Row4    0.492217\n",
       "Name: Column1, dtype: float64"
      ]
     },
     "execution_count": 58,
     "metadata": {},
     "output_type": "execute_result"
    }
   ],
   "execution_count": 58
  },
  {
   "metadata": {
    "ExecuteTime": {
     "end_time": "2025-09-06T08:30:28.327802Z",
     "start_time": "2025-09-06T08:30:28.325028Z"
    }
   },
   "cell_type": "code",
   "source": [
    "df_loc = df.loc['Row1'] # Accessing a single row by label\n",
    "df_iloc = df.iloc[0] # Accessing a single row by index\n",
    "\n",
    "print(df_loc)\n",
    "print(\"*\" * 50)\n",
    "print(df_iloc)"
   ],
   "id": "3d549a950e9a1746",
   "outputs": [
    {
     "name": "stdout",
     "output_type": "stream",
     "text": [
      "Column1    0.611534\n",
      "Column2    0.967664\n",
      "Column3    0.146796\n",
      "Name: Row1, dtype: float64\n",
      "**************************************************\n",
      "Column1    0.611534\n",
      "Column2    0.967664\n",
      "Column3    0.146796\n",
      "Name: Row1, dtype: float64\n"
     ]
    }
   ],
   "execution_count": 59
  },
  {
   "metadata": {
    "ExecuteTime": {
     "end_time": "2025-09-06T08:30:28.345996Z",
     "start_time": "2025-09-06T08:30:28.341232Z"
    }
   },
   "cell_type": "code",
   "source": "df[['Column1', 'Column3']] # Accessing multiple columns",
   "id": "5391447113520c3a",
   "outputs": [
    {
     "data": {
      "text/plain": [
       "       Column1   Column3\n",
       "Row1  0.611534  0.146796\n",
       "Row2 -1.249940  0.288336\n",
       "Row3  0.161828 -1.708036\n",
       "Row4  0.492217 -0.026490"
      ],
      "text/html": [
       "<div>\n",
       "<style scoped>\n",
       "    .dataframe tbody tr th:only-of-type {\n",
       "        vertical-align: middle;\n",
       "    }\n",
       "\n",
       "    .dataframe tbody tr th {\n",
       "        vertical-align: top;\n",
       "    }\n",
       "\n",
       "    .dataframe thead th {\n",
       "        text-align: right;\n",
       "    }\n",
       "</style>\n",
       "<table border=\"1\" class=\"dataframe\">\n",
       "  <thead>\n",
       "    <tr style=\"text-align: right;\">\n",
       "      <th></th>\n",
       "      <th>Column1</th>\n",
       "      <th>Column3</th>\n",
       "    </tr>\n",
       "  </thead>\n",
       "  <tbody>\n",
       "    <tr>\n",
       "      <th>Row1</th>\n",
       "      <td>0.611534</td>\n",
       "      <td>0.146796</td>\n",
       "    </tr>\n",
       "    <tr>\n",
       "      <th>Row2</th>\n",
       "      <td>-1.249940</td>\n",
       "      <td>0.288336</td>\n",
       "    </tr>\n",
       "    <tr>\n",
       "      <th>Row3</th>\n",
       "      <td>0.161828</td>\n",
       "      <td>-1.708036</td>\n",
       "    </tr>\n",
       "    <tr>\n",
       "      <th>Row4</th>\n",
       "      <td>0.492217</td>\n",
       "      <td>-0.026490</td>\n",
       "    </tr>\n",
       "  </tbody>\n",
       "</table>\n",
       "</div>"
      ]
     },
     "execution_count": 60,
     "metadata": {},
     "output_type": "execute_result"
    }
   ],
   "execution_count": 60
  },
  {
   "metadata": {
    "ExecuteTime": {
     "end_time": "2025-09-06T08:30:28.367487Z",
     "start_time": "2025-09-06T08:30:28.363416Z"
    }
   },
   "cell_type": "code",
   "source": "df[0:2] # Accessing multiple rows by index",
   "id": "299d3b0e0771293e",
   "outputs": [
    {
     "data": {
      "text/plain": [
       "       Column1   Column2   Column3\n",
       "Row1  0.611534  0.967664  0.146796\n",
       "Row2 -1.249940 -0.664318  0.288336"
      ],
      "text/html": [
       "<div>\n",
       "<style scoped>\n",
       "    .dataframe tbody tr th:only-of-type {\n",
       "        vertical-align: middle;\n",
       "    }\n",
       "\n",
       "    .dataframe tbody tr th {\n",
       "        vertical-align: top;\n",
       "    }\n",
       "\n",
       "    .dataframe thead th {\n",
       "        text-align: right;\n",
       "    }\n",
       "</style>\n",
       "<table border=\"1\" class=\"dataframe\">\n",
       "  <thead>\n",
       "    <tr style=\"text-align: right;\">\n",
       "      <th></th>\n",
       "      <th>Column1</th>\n",
       "      <th>Column2</th>\n",
       "      <th>Column3</th>\n",
       "    </tr>\n",
       "  </thead>\n",
       "  <tbody>\n",
       "    <tr>\n",
       "      <th>Row1</th>\n",
       "      <td>0.611534</td>\n",
       "      <td>0.967664</td>\n",
       "      <td>0.146796</td>\n",
       "    </tr>\n",
       "    <tr>\n",
       "      <th>Row2</th>\n",
       "      <td>-1.249940</td>\n",
       "      <td>-0.664318</td>\n",
       "      <td>0.288336</td>\n",
       "    </tr>\n",
       "  </tbody>\n",
       "</table>\n",
       "</div>"
      ]
     },
     "execution_count": 61,
     "metadata": {},
     "output_type": "execute_result"
    }
   ],
   "execution_count": 61
  },
  {
   "metadata": {
    "ExecuteTime": {
     "end_time": "2025-09-06T08:30:28.383631Z",
     "start_time": "2025-09-06T08:30:28.379975Z"
    }
   },
   "cell_type": "code",
   "source": "df.iloc[:,1]",
   "id": "a345bac8cf766b3d",
   "outputs": [
    {
     "data": {
      "text/plain": [
       "Row1    0.967664\n",
       "Row2   -0.664318\n",
       "Row3   -0.054201\n",
       "Row4   -1.245932\n",
       "Name: Column2, dtype: float64"
      ]
     },
     "execution_count": 62,
     "metadata": {},
     "output_type": "execute_result"
    }
   ],
   "execution_count": 62
  },
  {
   "metadata": {
    "ExecuteTime": {
     "end_time": "2025-09-06T08:30:28.399014Z",
     "start_time": "2025-09-06T08:30:28.394370Z"
    }
   },
   "cell_type": "code",
   "source": [
    "df['Extra'] = 10 # Adding a new column\n",
    "df"
   ],
   "id": "1f48eacb6fe7d685",
   "outputs": [
    {
     "data": {
      "text/plain": [
       "       Column1   Column2   Column3  Extra\n",
       "Row1  0.611534  0.967664  0.146796     10\n",
       "Row2 -1.249940 -0.664318  0.288336     10\n",
       "Row3  0.161828 -0.054201 -1.708036     10\n",
       "Row4  0.492217 -1.245932 -0.026490     10"
      ],
      "text/html": [
       "<div>\n",
       "<style scoped>\n",
       "    .dataframe tbody tr th:only-of-type {\n",
       "        vertical-align: middle;\n",
       "    }\n",
       "\n",
       "    .dataframe tbody tr th {\n",
       "        vertical-align: top;\n",
       "    }\n",
       "\n",
       "    .dataframe thead th {\n",
       "        text-align: right;\n",
       "    }\n",
       "</style>\n",
       "<table border=\"1\" class=\"dataframe\">\n",
       "  <thead>\n",
       "    <tr style=\"text-align: right;\">\n",
       "      <th></th>\n",
       "      <th>Column1</th>\n",
       "      <th>Column2</th>\n",
       "      <th>Column3</th>\n",
       "      <th>Extra</th>\n",
       "    </tr>\n",
       "  </thead>\n",
       "  <tbody>\n",
       "    <tr>\n",
       "      <th>Row1</th>\n",
       "      <td>0.611534</td>\n",
       "      <td>0.967664</td>\n",
       "      <td>0.146796</td>\n",
       "      <td>10</td>\n",
       "    </tr>\n",
       "    <tr>\n",
       "      <th>Row2</th>\n",
       "      <td>-1.249940</td>\n",
       "      <td>-0.664318</td>\n",
       "      <td>0.288336</td>\n",
       "      <td>10</td>\n",
       "    </tr>\n",
       "    <tr>\n",
       "      <th>Row3</th>\n",
       "      <td>0.161828</td>\n",
       "      <td>-0.054201</td>\n",
       "      <td>-1.708036</td>\n",
       "      <td>10</td>\n",
       "    </tr>\n",
       "    <tr>\n",
       "      <th>Row4</th>\n",
       "      <td>0.492217</td>\n",
       "      <td>-1.245932</td>\n",
       "      <td>-0.026490</td>\n",
       "      <td>10</td>\n",
       "    </tr>\n",
       "  </tbody>\n",
       "</table>\n",
       "</div>"
      ]
     },
     "execution_count": 63,
     "metadata": {},
     "output_type": "execute_result"
    }
   ],
   "execution_count": 63
  },
  {
   "metadata": {
    "ExecuteTime": {
     "end_time": "2025-09-06T08:30:28.407046Z",
     "start_time": "2025-09-06T08:30:28.404497Z"
    }
   },
   "cell_type": "code",
   "source": "df.drop(\"Extra\", axis=1, inplace=True) # Dropping a column # What does it mean inplace=True? # It means that the change will be made in the original dataframe",
   "id": "87579844f57427a2",
   "outputs": [],
   "execution_count": 64
  },
  {
   "metadata": {
    "ExecuteTime": {
     "end_time": "2025-09-06T08:30:28.423112Z",
     "start_time": "2025-09-06T08:30:28.418863Z"
    }
   },
   "cell_type": "code",
   "source": "df",
   "id": "fe46d662cbe2d894",
   "outputs": [
    {
     "data": {
      "text/plain": [
       "       Column1   Column2   Column3\n",
       "Row1  0.611534  0.967664  0.146796\n",
       "Row2 -1.249940 -0.664318  0.288336\n",
       "Row3  0.161828 -0.054201 -1.708036\n",
       "Row4  0.492217 -1.245932 -0.026490"
      ],
      "text/html": [
       "<div>\n",
       "<style scoped>\n",
       "    .dataframe tbody tr th:only-of-type {\n",
       "        vertical-align: middle;\n",
       "    }\n",
       "\n",
       "    .dataframe tbody tr th {\n",
       "        vertical-align: top;\n",
       "    }\n",
       "\n",
       "    .dataframe thead th {\n",
       "        text-align: right;\n",
       "    }\n",
       "</style>\n",
       "<table border=\"1\" class=\"dataframe\">\n",
       "  <thead>\n",
       "    <tr style=\"text-align: right;\">\n",
       "      <th></th>\n",
       "      <th>Column1</th>\n",
       "      <th>Column2</th>\n",
       "      <th>Column3</th>\n",
       "    </tr>\n",
       "  </thead>\n",
       "  <tbody>\n",
       "    <tr>\n",
       "      <th>Row1</th>\n",
       "      <td>0.611534</td>\n",
       "      <td>0.967664</td>\n",
       "      <td>0.146796</td>\n",
       "    </tr>\n",
       "    <tr>\n",
       "      <th>Row2</th>\n",
       "      <td>-1.249940</td>\n",
       "      <td>-0.664318</td>\n",
       "      <td>0.288336</td>\n",
       "    </tr>\n",
       "    <tr>\n",
       "      <th>Row3</th>\n",
       "      <td>0.161828</td>\n",
       "      <td>-0.054201</td>\n",
       "      <td>-1.708036</td>\n",
       "    </tr>\n",
       "    <tr>\n",
       "      <th>Row4</th>\n",
       "      <td>0.492217</td>\n",
       "      <td>-1.245932</td>\n",
       "      <td>-0.026490</td>\n",
       "    </tr>\n",
       "  </tbody>\n",
       "</table>\n",
       "</div>"
      ]
     },
     "execution_count": 65,
     "metadata": {},
     "output_type": "execute_result"
    }
   ],
   "execution_count": 65
  },
  {
   "metadata": {
    "ExecuteTime": {
     "end_time": "2025-09-06T08:35:59.032873Z",
     "start_time": "2025-09-06T08:35:59.008183Z"
    }
   },
   "cell_type": "code",
   "source": [
    "# add a new row\n",
    "df.loc['Row5'] = [1,2,3]\n",
    "df"
   ],
   "id": "76b8d7a8d6c96d6a",
   "outputs": [
    {
     "data": {
      "text/plain": [
       "       Column1   Column2   Column3\n",
       "Row1  0.611534  0.967664  0.146796\n",
       "Row2 -1.249940 -0.664318  0.288336\n",
       "Row3  0.161828 -0.054201 -1.708036\n",
       "Row4  0.492217 -1.245932 -0.026490\n",
       "Row5  1.000000  2.000000  3.000000"
      ],
      "text/html": [
       "<div>\n",
       "<style scoped>\n",
       "    .dataframe tbody tr th:only-of-type {\n",
       "        vertical-align: middle;\n",
       "    }\n",
       "\n",
       "    .dataframe tbody tr th {\n",
       "        vertical-align: top;\n",
       "    }\n",
       "\n",
       "    .dataframe thead th {\n",
       "        text-align: right;\n",
       "    }\n",
       "</style>\n",
       "<table border=\"1\" class=\"dataframe\">\n",
       "  <thead>\n",
       "    <tr style=\"text-align: right;\">\n",
       "      <th></th>\n",
       "      <th>Column1</th>\n",
       "      <th>Column2</th>\n",
       "      <th>Column3</th>\n",
       "    </tr>\n",
       "  </thead>\n",
       "  <tbody>\n",
       "    <tr>\n",
       "      <th>Row1</th>\n",
       "      <td>0.611534</td>\n",
       "      <td>0.967664</td>\n",
       "      <td>0.146796</td>\n",
       "    </tr>\n",
       "    <tr>\n",
       "      <th>Row2</th>\n",
       "      <td>-1.249940</td>\n",
       "      <td>-0.664318</td>\n",
       "      <td>0.288336</td>\n",
       "    </tr>\n",
       "    <tr>\n",
       "      <th>Row3</th>\n",
       "      <td>0.161828</td>\n",
       "      <td>-0.054201</td>\n",
       "      <td>-1.708036</td>\n",
       "    </tr>\n",
       "    <tr>\n",
       "      <th>Row4</th>\n",
       "      <td>0.492217</td>\n",
       "      <td>-1.245932</td>\n",
       "      <td>-0.026490</td>\n",
       "    </tr>\n",
       "    <tr>\n",
       "      <th>Row5</th>\n",
       "      <td>1.000000</td>\n",
       "      <td>2.000000</td>\n",
       "      <td>3.000000</td>\n",
       "    </tr>\n",
       "  </tbody>\n",
       "</table>\n",
       "</div>"
      ]
     },
     "execution_count": 66,
     "metadata": {},
     "output_type": "execute_result"
    }
   ],
   "execution_count": 66
  },
  {
   "metadata": {
    "ExecuteTime": {
     "end_time": "2025-09-06T08:37:23.885386Z",
     "start_time": "2025-09-06T08:37:23.883189Z"
    }
   },
   "cell_type": "code",
   "source": [
    "df.loc['Row3', 'Column1'] = 777 # Changing a specific value\n",
    "# df.at['Row3', 'Column1'] = 777 # Another way to change a specific value\n",
    "# df.iat[2,0] = 777 # Another way to change a specific value\n",
    "# df.iloc[2,0] = 777 # Another way to change a specific value\n",
    "# df.loc['Row3']['Column1'] = 777 # Another way to change a specific value"
   ],
   "id": "4a199b7a97704e2c",
   "outputs": [],
   "execution_count": 69
  },
  {
   "metadata": {
    "ExecuteTime": {
     "end_time": "2025-09-06T08:36:46.401841Z",
     "start_time": "2025-09-06T08:36:46.384441Z"
    }
   },
   "cell_type": "code",
   "source": "df",
   "id": "457338408817108b",
   "outputs": [
    {
     "data": {
      "text/plain": [
       "         Column1   Column2   Column3\n",
       "Row1    0.611534  0.967664  0.146796\n",
       "Row2   -1.249940 -0.664318  0.288336\n",
       "Row3  777.000000 -0.054201 -1.708036\n",
       "Row4    0.492217 -1.245932 -0.026490\n",
       "Row5    1.000000  2.000000  3.000000"
      ],
      "text/html": [
       "<div>\n",
       "<style scoped>\n",
       "    .dataframe tbody tr th:only-of-type {\n",
       "        vertical-align: middle;\n",
       "    }\n",
       "\n",
       "    .dataframe tbody tr th {\n",
       "        vertical-align: top;\n",
       "    }\n",
       "\n",
       "    .dataframe thead th {\n",
       "        text-align: right;\n",
       "    }\n",
       "</style>\n",
       "<table border=\"1\" class=\"dataframe\">\n",
       "  <thead>\n",
       "    <tr style=\"text-align: right;\">\n",
       "      <th></th>\n",
       "      <th>Column1</th>\n",
       "      <th>Column2</th>\n",
       "      <th>Column3</th>\n",
       "    </tr>\n",
       "  </thead>\n",
       "  <tbody>\n",
       "    <tr>\n",
       "      <th>Row1</th>\n",
       "      <td>0.611534</td>\n",
       "      <td>0.967664</td>\n",
       "      <td>0.146796</td>\n",
       "    </tr>\n",
       "    <tr>\n",
       "      <th>Row2</th>\n",
       "      <td>-1.249940</td>\n",
       "      <td>-0.664318</td>\n",
       "      <td>0.288336</td>\n",
       "    </tr>\n",
       "    <tr>\n",
       "      <th>Row3</th>\n",
       "      <td>777.000000</td>\n",
       "      <td>-0.054201</td>\n",
       "      <td>-1.708036</td>\n",
       "    </tr>\n",
       "    <tr>\n",
       "      <th>Row4</th>\n",
       "      <td>0.492217</td>\n",
       "      <td>-1.245932</td>\n",
       "      <td>-0.026490</td>\n",
       "    </tr>\n",
       "    <tr>\n",
       "      <th>Row5</th>\n",
       "      <td>1.000000</td>\n",
       "      <td>2.000000</td>\n",
       "      <td>3.000000</td>\n",
       "    </tr>\n",
       "  </tbody>\n",
       "</table>\n",
       "</div>"
      ]
     },
     "execution_count": 68,
     "metadata": {},
     "output_type": "execute_result"
    }
   ],
   "execution_count": 68
  },
  {
   "metadata": {
    "ExecuteTime": {
     "end_time": "2025-09-06T08:40:21.368374Z",
     "start_time": "2025-09-06T08:40:21.361219Z"
    }
   },
   "cell_type": "code",
   "source": [
    "reset_df = df.reset_index()\n",
    "reset_df"
   ],
   "id": "2824a40f7fe510b4",
   "outputs": [
    {
     "data": {
      "text/plain": [
       "  index     Column1   Column2   Column3\n",
       "0  Row1    0.611534  0.967664  0.146796\n",
       "1  Row2   -1.249940 -0.664318  0.288336\n",
       "2  Row3  777.000000 -0.054201 -1.708036\n",
       "3  Row4    0.492217 -1.245932 -0.026490\n",
       "4  Row5    1.000000  2.000000  3.000000"
      ],
      "text/html": [
       "<div>\n",
       "<style scoped>\n",
       "    .dataframe tbody tr th:only-of-type {\n",
       "        vertical-align: middle;\n",
       "    }\n",
       "\n",
       "    .dataframe tbody tr th {\n",
       "        vertical-align: top;\n",
       "    }\n",
       "\n",
       "    .dataframe thead th {\n",
       "        text-align: right;\n",
       "    }\n",
       "</style>\n",
       "<table border=\"1\" class=\"dataframe\">\n",
       "  <thead>\n",
       "    <tr style=\"text-align: right;\">\n",
       "      <th></th>\n",
       "      <th>index</th>\n",
       "      <th>Column1</th>\n",
       "      <th>Column2</th>\n",
       "      <th>Column3</th>\n",
       "    </tr>\n",
       "  </thead>\n",
       "  <tbody>\n",
       "    <tr>\n",
       "      <th>0</th>\n",
       "      <td>Row1</td>\n",
       "      <td>0.611534</td>\n",
       "      <td>0.967664</td>\n",
       "      <td>0.146796</td>\n",
       "    </tr>\n",
       "    <tr>\n",
       "      <th>1</th>\n",
       "      <td>Row2</td>\n",
       "      <td>-1.249940</td>\n",
       "      <td>-0.664318</td>\n",
       "      <td>0.288336</td>\n",
       "    </tr>\n",
       "    <tr>\n",
       "      <th>2</th>\n",
       "      <td>Row3</td>\n",
       "      <td>777.000000</td>\n",
       "      <td>-0.054201</td>\n",
       "      <td>-1.708036</td>\n",
       "    </tr>\n",
       "    <tr>\n",
       "      <th>3</th>\n",
       "      <td>Row4</td>\n",
       "      <td>0.492217</td>\n",
       "      <td>-1.245932</td>\n",
       "      <td>-0.026490</td>\n",
       "    </tr>\n",
       "    <tr>\n",
       "      <th>4</th>\n",
       "      <td>Row5</td>\n",
       "      <td>1.000000</td>\n",
       "      <td>2.000000</td>\n",
       "      <td>3.000000</td>\n",
       "    </tr>\n",
       "  </tbody>\n",
       "</table>\n",
       "</div>"
      ]
     },
     "execution_count": 72,
     "metadata": {},
     "output_type": "execute_result"
    }
   ],
   "execution_count": 72
  },
  {
   "metadata": {
    "ExecuteTime": {
     "end_time": "2025-09-06T08:42:16.942227Z",
     "start_time": "2025-09-06T08:42:16.933047Z"
    }
   },
   "cell_type": "code",
   "source": [
    "new_indices = ['a','b','c','d','e']\n",
    "reset_df['NewIndex'] = new_indices\n",
    "reset_df.set_index('NewIndex', inplace=True)\n",
    "reset_df"
   ],
   "id": "8fab95cad01e756a",
   "outputs": [
    {
     "data": {
      "text/plain": [
       "         index     Column1   Column2   Column3\n",
       "NewIndex                                      \n",
       "a         Row1    0.611534  0.967664  0.146796\n",
       "b         Row2   -1.249940 -0.664318  0.288336\n",
       "c         Row3  777.000000 -0.054201 -1.708036\n",
       "d         Row4    0.492217 -1.245932 -0.026490\n",
       "e         Row5    1.000000  2.000000  3.000000"
      ],
      "text/html": [
       "<div>\n",
       "<style scoped>\n",
       "    .dataframe tbody tr th:only-of-type {\n",
       "        vertical-align: middle;\n",
       "    }\n",
       "\n",
       "    .dataframe tbody tr th {\n",
       "        vertical-align: top;\n",
       "    }\n",
       "\n",
       "    .dataframe thead th {\n",
       "        text-align: right;\n",
       "    }\n",
       "</style>\n",
       "<table border=\"1\" class=\"dataframe\">\n",
       "  <thead>\n",
       "    <tr style=\"text-align: right;\">\n",
       "      <th></th>\n",
       "      <th>index</th>\n",
       "      <th>Column1</th>\n",
       "      <th>Column2</th>\n",
       "      <th>Column3</th>\n",
       "    </tr>\n",
       "    <tr>\n",
       "      <th>NewIndex</th>\n",
       "      <th></th>\n",
       "      <th></th>\n",
       "      <th></th>\n",
       "      <th></th>\n",
       "    </tr>\n",
       "  </thead>\n",
       "  <tbody>\n",
       "    <tr>\n",
       "      <th>a</th>\n",
       "      <td>Row1</td>\n",
       "      <td>0.611534</td>\n",
       "      <td>0.967664</td>\n",
       "      <td>0.146796</td>\n",
       "    </tr>\n",
       "    <tr>\n",
       "      <th>b</th>\n",
       "      <td>Row2</td>\n",
       "      <td>-1.249940</td>\n",
       "      <td>-0.664318</td>\n",
       "      <td>0.288336</td>\n",
       "    </tr>\n",
       "    <tr>\n",
       "      <th>c</th>\n",
       "      <td>Row3</td>\n",
       "      <td>777.000000</td>\n",
       "      <td>-0.054201</td>\n",
       "      <td>-1.708036</td>\n",
       "    </tr>\n",
       "    <tr>\n",
       "      <th>d</th>\n",
       "      <td>Row4</td>\n",
       "      <td>0.492217</td>\n",
       "      <td>-1.245932</td>\n",
       "      <td>-0.026490</td>\n",
       "    </tr>\n",
       "    <tr>\n",
       "      <th>e</th>\n",
       "      <td>Row5</td>\n",
       "      <td>1.000000</td>\n",
       "      <td>2.000000</td>\n",
       "      <td>3.000000</td>\n",
       "    </tr>\n",
       "  </tbody>\n",
       "</table>\n",
       "</div>"
      ]
     },
     "execution_count": 74,
     "metadata": {},
     "output_type": "execute_result"
    }
   ],
   "execution_count": 74
  },
  {
   "metadata": {},
   "cell_type": "markdown",
   "source": "# multi index",
   "id": "4662bf8672ce6805"
  },
  {
   "metadata": {
    "ExecuteTime": {
     "end_time": "2025-09-06T08:46:35.414209Z",
     "start_time": "2025-09-06T08:46:35.408149Z"
    }
   },
   "cell_type": "code",
   "source": [
    "first_index = [\"Simpson\",\"Simpson\",\"Simpson\",\"South Park\", \"South Park\", \"South Park\"]\n",
    "inner_index = [\"Homer\",\"Bart\",\"Marge\",\"Cartman\",\"Kenny\",\"Kyle\"]\n",
    "zipped_index = list(zip(first_index, inner_index))\n",
    "zipped_index"
   ],
   "id": "62974b16707177cd",
   "outputs": [
    {
     "data": {
      "text/plain": [
       "[('Simpson', 'Homer'),\n",
       " ('Simpson', 'Bart'),\n",
       " ('Simpson', 'Marge'),\n",
       " ('South Park', 'Cartman'),\n",
       " ('South Park', 'Kenny'),\n",
       " ('South Park', 'Kyle')]"
      ]
     },
     "execution_count": 75,
     "metadata": {},
     "output_type": "execute_result"
    }
   ],
   "execution_count": 75
  },
  {
   "metadata": {
    "ExecuteTime": {
     "end_time": "2025-09-06T08:46:49.175937Z",
     "start_time": "2025-09-06T08:46:49.171897Z"
    }
   },
   "cell_type": "code",
   "source": [
    "zipped_index = pd.MultiIndex.from_tuples(zipped_index) # Create a multi index from the zipped index\n",
    "zipped_index"
   ],
   "id": "e917880d76fb2234",
   "outputs": [
    {
     "data": {
      "text/plain": [
       "MultiIndex([(   'Simpson',   'Homer'),\n",
       "            (   'Simpson',    'Bart'),\n",
       "            (   'Simpson',   'Marge'),\n",
       "            ('South Park', 'Cartman'),\n",
       "            ('South Park',   'Kenny'),\n",
       "            ('South Park',    'Kyle')],\n",
       "           )"
      ]
     },
     "execution_count": 77,
     "metadata": {},
     "output_type": "execute_result"
    }
   ],
   "execution_count": 77
  },
  {
   "metadata": {
    "ExecuteTime": {
     "end_time": "2025-09-06T08:46:59.890559Z",
     "start_time": "2025-09-06T08:46:59.886293Z"
    }
   },
   "cell_type": "code",
   "source": [
    "sample_values = np.ones((6,2))\n",
    "sample_values"
   ],
   "id": "9aefdf1456b51a37",
   "outputs": [
    {
     "data": {
      "text/plain": [
       "array([[1., 1.],\n",
       "       [1., 1.],\n",
       "       [1., 1.],\n",
       "       [1., 1.],\n",
       "       [1., 1.],\n",
       "       [1., 1.]])"
      ]
     },
     "execution_count": 78,
     "metadata": {},
     "output_type": "execute_result"
    }
   ],
   "execution_count": 78
  },
  {
   "metadata": {
    "ExecuteTime": {
     "end_time": "2025-09-06T08:47:09.477781Z",
     "start_time": "2025-09-06T08:47:09.464997Z"
    }
   },
   "cell_type": "code",
   "source": [
    "big_df = pd.DataFrame(sample_values, index=zipped_index, columns=[\"Age\", \"Salary\"])\n",
    "big_df"
   ],
   "id": "190642ec8609feff",
   "outputs": [
    {
     "data": {
      "text/plain": [
       "                    Age  Salary\n",
       "Simpson    Homer    1.0     1.0\n",
       "           Bart     1.0     1.0\n",
       "           Marge    1.0     1.0\n",
       "South Park Cartman  1.0     1.0\n",
       "           Kenny    1.0     1.0\n",
       "           Kyle     1.0     1.0"
      ],
      "text/html": [
       "<div>\n",
       "<style scoped>\n",
       "    .dataframe tbody tr th:only-of-type {\n",
       "        vertical-align: middle;\n",
       "    }\n",
       "\n",
       "    .dataframe tbody tr th {\n",
       "        vertical-align: top;\n",
       "    }\n",
       "\n",
       "    .dataframe thead th {\n",
       "        text-align: right;\n",
       "    }\n",
       "</style>\n",
       "<table border=\"1\" class=\"dataframe\">\n",
       "  <thead>\n",
       "    <tr style=\"text-align: right;\">\n",
       "      <th></th>\n",
       "      <th></th>\n",
       "      <th>Age</th>\n",
       "      <th>Salary</th>\n",
       "    </tr>\n",
       "  </thead>\n",
       "  <tbody>\n",
       "    <tr>\n",
       "      <th rowspan=\"3\" valign=\"top\">Simpson</th>\n",
       "      <th>Homer</th>\n",
       "      <td>1.0</td>\n",
       "      <td>1.0</td>\n",
       "    </tr>\n",
       "    <tr>\n",
       "      <th>Bart</th>\n",
       "      <td>1.0</td>\n",
       "      <td>1.0</td>\n",
       "    </tr>\n",
       "    <tr>\n",
       "      <th>Marge</th>\n",
       "      <td>1.0</td>\n",
       "      <td>1.0</td>\n",
       "    </tr>\n",
       "    <tr>\n",
       "      <th rowspan=\"3\" valign=\"top\">South Park</th>\n",
       "      <th>Cartman</th>\n",
       "      <td>1.0</td>\n",
       "      <td>1.0</td>\n",
       "    </tr>\n",
       "    <tr>\n",
       "      <th>Kenny</th>\n",
       "      <td>1.0</td>\n",
       "      <td>1.0</td>\n",
       "    </tr>\n",
       "    <tr>\n",
       "      <th>Kyle</th>\n",
       "      <td>1.0</td>\n",
       "      <td>1.0</td>\n",
       "    </tr>\n",
       "  </tbody>\n",
       "</table>\n",
       "</div>"
      ]
     },
     "execution_count": 79,
     "metadata": {},
     "output_type": "execute_result"
    }
   ],
   "execution_count": 79
  },
  {
   "metadata": {
    "ExecuteTime": {
     "end_time": "2025-09-06T08:47:41.680499Z",
     "start_time": "2025-09-06T08:47:41.675367Z"
    }
   },
   "cell_type": "code",
   "source": "big_df[\"Age\"]",
   "id": "9b63b46324b65257",
   "outputs": [
    {
     "data": {
      "text/plain": [
       "Simpson     Homer      1.0\n",
       "            Bart       1.0\n",
       "            Marge      1.0\n",
       "South Park  Cartman    1.0\n",
       "            Kenny      1.0\n",
       "            Kyle       1.0\n",
       "Name: Age, dtype: float64"
      ]
     },
     "execution_count": 80,
     "metadata": {},
     "output_type": "execute_result"
    }
   ],
   "execution_count": 80
  },
  {
   "metadata": {
    "ExecuteTime": {
     "end_time": "2025-09-06T08:48:15.958880Z",
     "start_time": "2025-09-06T08:48:15.955084Z"
    }
   },
   "cell_type": "code",
   "source": [
    "big_df[\"Age\"][\"Simpson\"] # Accessing a specific level of the multi index\n",
    "# big_df.loc[\"Simpson\"] # Another way to access a specific level of the multi index"
   ],
   "id": "d5a9a827b2b9aba1",
   "outputs": [
    {
     "data": {
      "text/plain": [
       "Homer    1.0\n",
       "Bart     1.0\n",
       "Marge    1.0\n",
       "Name: Age, dtype: float64"
      ]
     },
     "execution_count": 82,
     "metadata": {},
     "output_type": "execute_result"
    }
   ],
   "execution_count": 82
  },
  {
   "metadata": {
    "ExecuteTime": {
     "end_time": "2025-09-06T08:48:16.416824Z",
     "start_time": "2025-09-06T08:48:16.413851Z"
    }
   },
   "cell_type": "code",
   "source": [
    "big_df[\"Age\"][\"Simpson\"][\"Homer\"] # Accessing a specific value in the multi index\n",
    "# big_df.loc[\"Simpson\"].loc[\"Homer\"] # Another way to access a specific value in the multi index"
   ],
   "id": "a17b56d190cf58d7",
   "outputs": [
    {
     "data": {
      "text/plain": [
       "1.0"
      ]
     },
     "execution_count": 83,
     "metadata": {},
     "output_type": "execute_result"
    }
   ],
   "execution_count": 83
  },
  {
   "metadata": {},
   "cell_type": "code",
   "outputs": [],
   "execution_count": null,
   "source": "",
   "id": "f2428efaabd6ec52"
  }
 ],
 "metadata": {
  "kernelspec": {
   "display_name": "Python 3",
   "language": "python",
   "name": "python3"
  },
  "language_info": {
   "codemirror_mode": {
    "name": "ipython",
    "version": 2
   },
   "file_extension": ".py",
   "mimetype": "text/x-python",
   "name": "python",
   "nbconvert_exporter": "python",
   "pygments_lexer": "ipython2",
   "version": "2.7.6"
  }
 },
 "nbformat": 4,
 "nbformat_minor": 5
}
