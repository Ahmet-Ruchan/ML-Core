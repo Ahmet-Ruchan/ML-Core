{
 "cells": [
  {
   "cell_type": "code",
   "id": "initial_id",
   "metadata": {
    "collapsed": true,
    "ExecuteTime": {
     "end_time": "2025-09-05T08:00:18.704737Z",
     "start_time": "2025-09-05T08:00:18.702767Z"
    }
   },
   "source": [
    "import numpy as np\n",
    "from dateutil.rrule import SECONDLY\n",
    "from scipy.sparse import random_array"
   ],
   "outputs": [],
   "execution_count": 2
  },
  {
   "metadata": {
    "ExecuteTime": {
     "end_time": "2025-09-05T08:03:05.696384Z",
     "start_time": "2025-09-05T08:03:05.685741Z"
    }
   },
   "cell_type": "code",
   "source": [
    "my_list = [1, 2, 3]\n",
    "type(my_list)"
   ],
   "id": "fd112a77fef02d9",
   "outputs": [
    {
     "data": {
      "text/plain": [
       "list"
      ]
     },
     "execution_count": 4,
     "metadata": {},
     "output_type": "execute_result"
    }
   ],
   "execution_count": 4
  },
  {
   "metadata": {
    "ExecuteTime": {
     "end_time": "2025-09-05T08:04:06.522574Z",
     "start_time": "2025-09-05T08:04:06.517260Z"
    }
   },
   "cell_type": "code",
   "source": "my_numpy_array = np.array(my_list)",
   "id": "b042dc998bfe5078",
   "outputs": [],
   "execution_count": 6
  },
  {
   "metadata": {
    "ExecuteTime": {
     "end_time": "2025-09-05T08:04:23.234812Z",
     "start_time": "2025-09-05T08:04:23.231990Z"
    }
   },
   "cell_type": "code",
   "source": "my_numpy_array.shape",
   "id": "202ed9089f792308",
   "outputs": [
    {
     "data": {
      "text/plain": [
       "(3,)"
      ]
     },
     "execution_count": 8,
     "metadata": {},
     "output_type": "execute_result"
    }
   ],
   "execution_count": 8
  },
  {
   "metadata": {},
   "cell_type": "markdown",
   "source": "# Matrices",
   "id": "aa86ff7d9113f825"
  },
  {
   "metadata": {
    "ExecuteTime": {
     "end_time": "2025-09-05T08:16:35.315697Z",
     "start_time": "2025-09-05T08:16:35.309338Z"
    }
   },
   "cell_type": "code",
   "source": [
    "my_matrix = [[1, 2, 3], [4, 5, 6], [7, 8, 9]]\n",
    "my_numpy_matrix = np.array(my_matrix)"
   ],
   "id": "9d14a7ca54cc25c8",
   "outputs": [
    {
     "data": {
      "text/plain": [
       "array([[1, 2, 3],\n",
       "       [4, 5, 6],\n",
       "       [7, 8, 9]])"
      ]
     },
     "execution_count": 10,
     "metadata": {},
     "output_type": "execute_result"
    }
   ],
   "execution_count": 10
  },
  {
   "metadata": {
    "ExecuteTime": {
     "end_time": "2025-09-05T08:17:18.390113Z",
     "start_time": "2025-09-05T08:17:18.386367Z"
    }
   },
   "cell_type": "code",
   "source": [
    "print(my_numpy_matrix)\n",
    "type(my_numpy_matrix)"
   ],
   "id": "95ede0c515ab85bf",
   "outputs": [
    {
     "name": "stdout",
     "output_type": "stream",
     "text": [
      "[[1 2 3]\n",
      " [4 5 6]\n",
      " [7 8 9]]\n"
     ]
    },
    {
     "data": {
      "text/plain": [
       "numpy.ndarray"
      ]
     },
     "execution_count": 14,
     "metadata": {},
     "output_type": "execute_result"
    }
   ],
   "execution_count": 14
  },
  {
   "metadata": {
    "ExecuteTime": {
     "end_time": "2025-09-05T08:17:35.483505Z",
     "start_time": "2025-09-05T08:17:35.478908Z"
    }
   },
   "cell_type": "code",
   "source": [
    "print(my_matrix)\n",
    "type(my_matrix)"
   ],
   "id": "c6926ca7e160ec18",
   "outputs": [
    {
     "name": "stdout",
     "output_type": "stream",
     "text": [
      "[[1, 2, 3], [4, 5, 6], [7, 8, 9]]\n"
     ]
    },
    {
     "data": {
      "text/plain": [
       "list"
      ]
     },
     "execution_count": 16,
     "metadata": {},
     "output_type": "execute_result"
    }
   ],
   "execution_count": 16
  },
  {
   "metadata": {},
   "cell_type": "markdown",
   "source": "# Dot Product",
   "id": "ea5ba044212703d9"
  },
  {
   "metadata": {
    "ExecuteTime": {
     "end_time": "2025-09-05T08:31:48.452603Z",
     "start_time": "2025-09-05T08:31:48.447240Z"
    }
   },
   "cell_type": "code",
   "source": [
    "# Dot product of two arrays\n",
    "a = np.array([1, 2])\n",
    "b = np.array([3, 4])\n",
    "dot_product = np.dot(a, b)\n",
    "print(dot_product)\n",
    "print(dot_product.shape)"
   ],
   "id": "fce0abc772b272e3",
   "outputs": [
    {
     "name": "stdout",
     "output_type": "stream",
     "text": [
      "11\n",
      "()\n"
     ]
    }
   ],
   "execution_count": 19
  },
  {
   "metadata": {
    "ExecuteTime": {
     "end_time": "2025-09-05T08:38:21.263560Z",
     "start_time": "2025-09-05T08:38:21.246507Z"
    }
   },
   "cell_type": "code",
   "source": [
    "# Dot product of two matrices\n",
    "A = np.array([[1, 2],\n",
    "              [3, 4],\n",
    "              [5, 6],])\n",
    "\n",
    "B = np.array([[5, 6, 8, 11],\n",
    "              [7, 8, 5, 3],])\n",
    "\n",
    "print(A.shape)\n",
    "print(B.shape)\n",
    "\n",
    "# Note: For dot product, the number of columns in A must equal the number of rows\n",
    "dot_product_matrices = np.dot(A, B)\n",
    "print(dot_product_matrices)\n",
    "print(dot_product_matrices.shape)"
   ],
   "id": "668fe0210f40ff76",
   "outputs": [
    {
     "name": "stdout",
     "output_type": "stream",
     "text": [
      "(3, 2)\n",
      "(2, 4)\n",
      "[[19 22 18 17]\n",
      " [43 50 44 45]\n",
      " [67 78 70 73]]\n",
      "(3, 4)\n"
     ]
    }
   ],
   "execution_count": 28
  },
  {
   "metadata": {
    "ExecuteTime": {
     "end_time": "2025-09-05T12:12:30.640658Z",
     "start_time": "2025-09-05T12:12:30.637502Z"
    }
   },
   "cell_type": "code",
   "source": [
    "first_matrix = np.array([[1, 0, 1],\n",
    "                         [0, 0, 1]])\n",
    "\n",
    "second_matrix = np.array([[1, 1, 1, 1],\n",
    "                          [0, 0, 0, 0],\n",
    "                          [1, 0, 1, 0]])\n",
    "\n",
    "print(first_matrix.shape)\n",
    "print(second_matrix.shape)\n"
   ],
   "id": "4c9270d2e960ae25",
   "outputs": [
    {
     "name": "stdout",
     "output_type": "stream",
     "text": [
      "(2, 3)\n",
      "(3, 4)\n"
     ]
    }
   ],
   "execution_count": 33
  },
  {
   "metadata": {
    "ExecuteTime": {
     "end_time": "2025-09-05T12:12:30.909799Z",
     "start_time": "2025-09-05T12:12:30.906958Z"
    }
   },
   "cell_type": "code",
   "source": [
    "new_dot_product = np.dot(first_matrix, second_matrix)\n",
    "print(new_dot_product)\n",
    "print(new_dot_product.shape)"
   ],
   "id": "8b5837a196aeb58a",
   "outputs": [
    {
     "name": "stdout",
     "output_type": "stream",
     "text": [
      "[[2 1 2 1]\n",
      " [1 0 1 0]]\n",
      "(2, 4)\n"
     ]
    }
   ],
   "execution_count": 34
  },
  {
   "metadata": {
    "ExecuteTime": {
     "end_time": "2025-09-05T12:19:11.639760Z",
     "start_time": "2025-09-05T12:19:11.637284Z"
    }
   },
   "cell_type": "code",
   "source": [
    "new_array = np.random.randint(1,100,20) # 20 random integers between 1 and 100\n",
    "print(new_array)"
   ],
   "id": "8c29a70b0fe21f4d",
   "outputs": [
    {
     "name": "stdout",
     "output_type": "stream",
     "text": [
      "[60 61 17 86 56 77 30 12 71 21 18 60  3 27 93 77 74 68 22 99]\n"
     ]
    }
   ],
   "execution_count": 36
  },
  {
   "metadata": {
    "ExecuteTime": {
     "end_time": "2025-09-05T12:19:18.727275Z",
     "start_time": "2025-09-05T12:19:18.722441Z"
    }
   },
   "cell_type": "code",
   "source": "new_array > 25",
   "id": "ffdff8b36b2654e",
   "outputs": [
    {
     "data": {
      "text/plain": [
       "array([ True,  True, False,  True,  True,  True,  True, False,  True,\n",
       "       False, False,  True, False,  True,  True,  True,  True,  True,\n",
       "       False,  True])"
      ]
     },
     "execution_count": 37,
     "metadata": {},
     "output_type": "execute_result"
    }
   ],
   "execution_count": 37
  },
  {
   "metadata": {
    "ExecuteTime": {
     "end_time": "2025-09-05T12:19:24.499004Z",
     "start_time": "2025-09-05T12:19:24.494936Z"
    }
   },
   "cell_type": "code",
   "source": "new_array[new_array > 25]",
   "id": "a350b54aa6bea25d",
   "outputs": [
    {
     "data": {
      "text/plain": [
       "array([60, 61, 86, 56, 77, 30, 71, 60, 27, 93, 77, 74, 68, 99])"
      ]
     },
     "execution_count": 38,
     "metadata": {},
     "output_type": "execute_result"
    }
   ],
   "execution_count": 38
  },
  {
   "metadata": {},
   "cell_type": "markdown",
   "source": "# Transpose and Reshape\n",
   "id": "75c574c39d57fa9a"
  },
  {
   "metadata": {
    "ExecuteTime": {
     "end_time": "2025-09-05T12:21:08.987294Z",
     "start_time": "2025-09-05T12:21:08.966481Z"
    }
   },
   "cell_type": "code",
   "source": "second_matrix.shape",
   "id": "bd5b9db683c17e03",
   "outputs": [
    {
     "data": {
      "text/plain": [
       "(3, 4)"
      ]
     },
     "execution_count": 41,
     "metadata": {},
     "output_type": "execute_result"
    }
   ],
   "execution_count": 41
  },
  {
   "metadata": {
    "ExecuteTime": {
     "end_time": "2025-09-05T12:21:52.002568Z",
     "start_time": "2025-09-05T12:21:51.999607Z"
    }
   },
   "cell_type": "code",
   "source": [
    "transpose_second_matrix = second_matrix.T # or np.transpose(second_matrix)\n",
    "print(transpose_second_matrix.shape)\n",
    "print(transpose_second_matrix)"
   ],
   "id": "3f8fbf441372f98c",
   "outputs": [
    {
     "name": "stdout",
     "output_type": "stream",
     "text": [
      "(4, 3)\n",
      "[[1 0 1]\n",
      " [1 0 0]\n",
      " [1 0 1]\n",
      " [1 0 0]]\n"
     ]
    }
   ],
   "execution_count": 43
  },
  {
   "metadata": {
    "ExecuteTime": {
     "end_time": "2025-09-05T12:50:09.217414Z",
     "start_time": "2025-09-05T12:50:09.211994Z"
    }
   },
   "cell_type": "code",
   "source": [
    "random_array = np.random.random((3,2))\n",
    "random_array"
   ],
   "id": "5c1cb779596f3a1c",
   "outputs": [
    {
     "data": {
      "text/plain": [
       "array([[0.70737742, 0.15972955],\n",
       "       [0.76198492, 0.13391744],\n",
       "       [0.69285824, 0.91953213]])"
      ]
     },
     "execution_count": 48,
     "metadata": {},
     "output_type": "execute_result"
    }
   ],
   "execution_count": 48
  },
  {
   "metadata": {
    "ExecuteTime": {
     "end_time": "2025-09-05T12:50:17.721691Z",
     "start_time": "2025-09-05T12:50:17.718807Z"
    }
   },
   "cell_type": "code",
   "source": "random_array.shape",
   "id": "e5079b7d9352861f",
   "outputs": [
    {
     "data": {
      "text/plain": [
       "(3, 2)"
      ]
     },
     "execution_count": 49,
     "metadata": {},
     "output_type": "execute_result"
    }
   ],
   "execution_count": 49
  },
  {
   "metadata": {
    "ExecuteTime": {
     "end_time": "2025-09-05T12:50:55.351267Z",
     "start_time": "2025-09-05T12:50:55.347442Z"
    }
   },
   "cell_type": "code",
   "source": "random_array.reshape(6,1) # or random_array.reshape(2,3) 2x3 = 6x1",
   "id": "906333511cdd19a7",
   "outputs": [
    {
     "data": {
      "text/plain": [
       "array([[0.70737742],\n",
       "       [0.15972955],\n",
       "       [0.76198492],\n",
       "       [0.13391744],\n",
       "       [0.69285824],\n",
       "       [0.91953213]])"
      ]
     },
     "execution_count": 52,
     "metadata": {},
     "output_type": "execute_result"
    }
   ],
   "execution_count": 52
  },
  {
   "metadata": {
    "ExecuteTime": {
     "end_time": "2025-09-05T12:53:34.403170Z",
     "start_time": "2025-09-05T12:53:34.398406Z"
    }
   },
   "cell_type": "code",
   "source": "data = np.array([10, 12, 15, 18, 20, 25, 100, 150])",
   "id": "ecc1c75ebaad3a0f",
   "outputs": [],
   "execution_count": 53
  },
  {
   "metadata": {
    "ExecuteTime": {
     "end_time": "2025-09-05T12:53:44.895530Z",
     "start_time": "2025-09-05T12:53:44.890296Z"
    }
   },
   "cell_type": "code",
   "source": [
    "mean = np.mean(data)\n",
    "print(mean)"
   ],
   "id": "454db3468b2ebba2",
   "outputs": [
    {
     "name": "stdout",
     "output_type": "stream",
     "text": [
      "43.75\n"
     ]
    }
   ],
   "execution_count": 55
  },
  {
   "metadata": {
    "ExecuteTime": {
     "end_time": "2025-09-05T12:54:09.925697Z",
     "start_time": "2025-09-05T12:54:09.923585Z"
    }
   },
   "cell_type": "code",
   "source": [
    "std = np.std(data)\n",
    "print(std)"
   ],
   "id": "6d8e140f2147cf0a",
   "outputs": [
    {
     "name": "stdout",
     "output_type": "stream",
     "text": [
      "48.74102481483129\n"
     ]
    }
   ],
   "execution_count": 57
  },
  {
   "metadata": {
    "ExecuteTime": {
     "end_time": "2025-09-05T12:54:49.054151Z",
     "start_time": "2025-09-05T12:54:49.045147Z"
    }
   },
   "cell_type": "code",
   "source": [
    "z_scores = (data - mean) / std\n",
    "print(z_scores)"
   ],
   "id": "162268c3230c61ed",
   "outputs": [
    {
     "name": "stdout",
     "output_type": "stream",
     "text": [
      "[-0.69243517 -0.65140198 -0.58985219 -0.52830239 -0.4872692  -0.38468621\n",
      "  1.15405862  2.17988851]\n"
     ]
    }
   ],
   "execution_count": 58
  },
  {
   "metadata": {
    "ExecuteTime": {
     "end_time": "2025-09-05T12:55:43.382064Z",
     "start_time": "2025-09-05T12:55:43.376754Z"
    }
   },
   "cell_type": "code",
   "source": "data[z_scores > 1] # Values with z-score greater than 1 for outlier detection",
   "id": "697c68a54261e584",
   "outputs": [
    {
     "data": {
      "text/plain": [
       "array([100, 150])"
      ]
     },
     "execution_count": 60,
     "metadata": {},
     "output_type": "execute_result"
    }
   ],
   "execution_count": 60
  },
  {
   "metadata": {
    "ExecuteTime": {
     "end_time": "2025-09-05T12:58:20.954736Z",
     "start_time": "2025-09-05T12:58:20.941830Z"
    }
   },
   "cell_type": "code",
   "source": [
    "#math equation\n",
    "# 2x + 3y = 8 and 5x + 7y = 19\n",
    "\n",
    "A = np.array([[2, 3], [5, 7]]) # Coefficient matrix 2x,3y and 5x,7y\n",
    "B = np.array([8, 19])          # Ordinate matrix 8 and 19\n",
    "\n",
    "solution = np.linalg.solve(A, B)\n",
    "print(solution) # x and y values"
   ],
   "id": "1cd99f3cd047f682",
   "outputs": [
    {
     "name": "stdout",
     "output_type": "stream",
     "text": [
      "[1. 2.]\n"
     ]
    }
   ],
   "execution_count": 61
  },
  {
   "metadata": {},
   "cell_type": "code",
   "outputs": [],
   "execution_count": null,
   "source": "",
   "id": "67f00b240d461ee2"
  }
 ],
 "metadata": {
  "kernelspec": {
   "display_name": "Python 3",
   "language": "python",
   "name": "python3"
  },
  "language_info": {
   "codemirror_mode": {
    "name": "ipython",
    "version": 2
   },
   "file_extension": ".py",
   "mimetype": "text/x-python",
   "name": "python",
   "nbconvert_exporter": "python",
   "pygments_lexer": "ipython2",
   "version": "2.7.6"
  }
 },
 "nbformat": 4,
 "nbformat_minor": 5
}
