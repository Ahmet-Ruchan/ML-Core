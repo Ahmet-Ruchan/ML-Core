{
 "cells": [
  {
   "cell_type": "code",
   "id": "initial_id",
   "metadata": {
    "collapsed": true,
    "ExecuteTime": {
     "end_time": "2025-08-23T08:06:13.568268Z",
     "start_time": "2025-08-23T08:06:13.562467Z"
    }
   },
   "source": "print(\"Hello, World!\")",
   "outputs": [
    {
     "name": "stdout",
     "output_type": "stream",
     "text": [
      "Hello, World!\n"
     ]
    }
   ],
   "execution_count": 2
  },
  {
   "metadata": {
    "ExecuteTime": {
     "end_time": "2025-08-23T08:24:39.066064Z",
     "start_time": "2025-08-23T08:24:39.062205Z"
    }
   },
   "cell_type": "code",
   "source": [
    "a = 40\n",
    "b = 4\n",
    "\n",
    "z = a / b\n",
    "print(int(z))"
   ],
   "id": "9d17881a0fbbbfe4",
   "outputs": [
    {
     "name": "stdout",
     "output_type": "stream",
     "text": [
      "10\n"
     ]
    }
   ],
   "execution_count": 4
  },
  {
   "metadata": {
    "ExecuteTime": {
     "end_time": "2025-08-23T08:35:15.329232Z",
     "start_time": "2025-08-23T08:35:15.327038Z"
    }
   },
   "cell_type": "code",
   "source": "name = \"john\"",
   "id": "454f714ef7bcb56e",
   "outputs": [],
   "execution_count": 8
  },
  {
   "metadata": {
    "ExecuteTime": {
     "end_time": "2025-08-23T08:35:15.676833Z",
     "start_time": "2025-08-23T08:35:15.673510Z"
    }
   },
   "cell_type": "code",
   "source": "name.capitalize()",
   "id": "f751be292f6b72da",
   "outputs": [
    {
     "data": {
      "text/plain": [
       "'John'"
      ]
     },
     "execution_count": 9,
     "metadata": {},
     "output_type": "execute_result"
    }
   ],
   "execution_count": 9
  },
  {
   "metadata": {
    "ExecuteTime": {
     "end_time": "2025-08-23T08:49:21.136591Z",
     "start_time": "2025-08-23T08:49:21.129865Z"
    }
   },
   "cell_type": "code",
   "source": "help(name.index)",
   "id": "80a5d65822461bf1",
   "outputs": [
    {
     "name": "stdout",
     "output_type": "stream",
     "text": [
      "Help on built-in function index:\n",
      "\n",
      "index(...) method of builtins.str instance\n",
      "    S.index(sub[, start[, end]]) -> int\n",
      "\n",
      "    Return the lowest index in S where substring sub is found,\n",
      "    such that sub is contained within S[start:end].  Optional\n",
      "    arguments start and end are interpreted as in slice notation.\n",
      "\n",
      "    Raises ValueError when the substring is not found.\n",
      "\n"
     ]
    }
   ],
   "execution_count": 11
  },
  {
   "metadata": {},
   "cell_type": "code",
   "outputs": [],
   "execution_count": null,
   "source": "#slicing[starting index:stoping index:stepping index]",
   "id": "e7ed85f1202af243"
  },
  {
   "metadata": {},
   "cell_type": "markdown",
   "source": [
    "#Lists\n",
    "* Lists are mutable, meaning you can change their content without changing their identity.\n",
    "* Lists are ordered, meaning that the items have a defined order, and that order will not change.\n",
    "* Lists allow duplicate values."
   ],
   "id": "ba6fac8ef3ae0a75"
  },
  {
   "metadata": {
    "ExecuteTime": {
     "end_time": "2025-08-23T09:16:49.577241Z",
     "start_time": "2025-08-23T09:16:49.572799Z"
    }
   },
   "cell_type": "code",
   "source": "my_list = [\"a\", 123, True]",
   "id": "1c1bcff315024cc",
   "outputs": [],
   "execution_count": 15
  },
  {
   "metadata": {
    "ExecuteTime": {
     "end_time": "2025-08-23T09:16:50.000598Z",
     "start_time": "2025-08-23T09:16:49.996742Z"
    }
   },
   "cell_type": "code",
   "source": "type(my_list)",
   "id": "e2a47052a26e4dac",
   "outputs": [
    {
     "data": {
      "text/plain": [
       "list"
      ]
     },
     "execution_count": 16,
     "metadata": {},
     "output_type": "execute_result"
    }
   ],
   "execution_count": 16
  },
  {
   "metadata": {
    "ExecuteTime": {
     "end_time": "2025-08-23T09:16:50.453833Z",
     "start_time": "2025-08-23T09:16:50.448384Z"
    }
   },
   "cell_type": "code",
   "source": [
    "my_list[0] = \"b\"\n",
    "print(my_list)"
   ],
   "id": "a3a3a427bdda9f6c",
   "outputs": [
    {
     "name": "stdout",
     "output_type": "stream",
     "text": [
      "['b', 123, True]\n"
     ]
    }
   ],
   "execution_count": 17
  },
  {
   "metadata": {
    "ExecuteTime": {
     "end_time": "2025-08-23T09:29:34.310198Z",
     "start_time": "2025-08-23T09:29:30.960795Z"
    }
   },
   "cell_type": "code",
   "source": [
    "age = int(input(\"Enter your age: \"))\n",
    "print(age)\n",
    "\n",
    "new_age = age + 5\n",
    "print(new_age)\n"
   ],
   "id": "5aa9ca7d47e448e4",
   "outputs": [
    {
     "name": "stdout",
     "output_type": "stream",
     "text": [
      "24\n",
      "29\n"
     ]
    }
   ],
   "execution_count": 20
  },
  {
   "metadata": {},
   "cell_type": "markdown",
   "source": [
    "# Dictionaries\n",
    "* Dictionaries are mutable, meaning you can change their content without changing their identity.\n",
    "* Dictionaries are unordered, meaning that the items do not have a defined order, and that order will not change.\n",
    "* Dictionaries do not allow duplicate values."
   ],
   "id": "be5ca8f3cf6b8b46"
  },
  {
   "metadata": {
    "ExecuteTime": {
     "end_time": "2025-08-23T09:41:12.934547Z",
     "start_time": "2025-08-23T09:41:12.925163Z"
    }
   },
   "cell_type": "code",
   "source": [
    "my_dict = {\n",
    "    \"name\" : \"Ahmet\",\n",
    "    \"age\" : 25\n",
    "}"
   ],
   "id": "56e14497ca36a225",
   "outputs": [],
   "execution_count": 21
  },
  {
   "metadata": {
    "ExecuteTime": {
     "end_time": "2025-08-23T09:42:04.729857Z",
     "start_time": "2025-08-23T09:42:04.724892Z"
    }
   },
   "cell_type": "code",
   "source": [
    "print(my_dict)\n",
    "print(my_dict[\"name\"])"
   ],
   "id": "d38b50246ef067ce",
   "outputs": [
    {
     "name": "stdout",
     "output_type": "stream",
     "text": [
      "{'name': 'Ahmet', 'age': 25}\n",
      "Ahmet\n"
     ]
    }
   ],
   "execution_count": 26
  },
  {
   "metadata": {
    "ExecuteTime": {
     "end_time": "2025-08-23T09:47:48.493727Z",
     "start_time": "2025-08-23T09:47:48.468196Z"
    }
   },
   "cell_type": "code",
   "source": "my_dict.get(\"age\")",
   "id": "3236c49550709a06",
   "outputs": [
    {
     "data": {
      "text/plain": [
       "25"
      ]
     },
     "execution_count": 27,
     "metadata": {},
     "output_type": "execute_result"
    }
   ],
   "execution_count": 27
  },
  {
   "metadata": {
    "ExecuteTime": {
     "end_time": "2025-08-23T09:48:11.360803Z",
     "start_time": "2025-08-23T09:48:11.354479Z"
    }
   },
   "cell_type": "code",
   "source": "my_dict.get(\"job\", \"Not Found\") # if the key is not found, it will return \"Not Found\"",
   "id": "752b52fe6a22b411",
   "outputs": [
    {
     "data": {
      "text/plain": [
       "'Not Found'"
      ]
     },
     "execution_count": 29,
     "metadata": {},
     "output_type": "execute_result"
    }
   ],
   "execution_count": 29
  },
  {
   "metadata": {},
   "cell_type": "markdown",
   "source": [
    "# Sets\n",
    "* Sets are collections of unique elements.\n",
    "* Sets are mutable, meaning you can change their content without changing their identity.\n",
    "* Sets are unordered, meaning that the items do not have a defined order, and that order will not change.\n",
    "* Sets do not allow duplicate values."
   ],
   "id": "6802520a463bd6f"
  },
  {
   "metadata": {
    "ExecuteTime": {
     "end_time": "2025-08-23T09:53:20.052343Z",
     "start_time": "2025-08-23T09:53:20.042177Z"
    }
   },
   "cell_type": "code",
   "source": "my_set = {1, 2, 3, 4, 5}",
   "id": "d2a1fe5550f785cc",
   "outputs": [],
   "execution_count": 30
  },
  {
   "metadata": {
    "ExecuteTime": {
     "end_time": "2025-08-23T09:53:23.221765Z",
     "start_time": "2025-08-23T09:53:23.216310Z"
    }
   },
   "cell_type": "code",
   "source": "my_set",
   "id": "3701457b860bd6cd",
   "outputs": [
    {
     "data": {
      "text/plain": [
       "{1, 2, 3, 4, 5}"
      ]
     },
     "execution_count": 31,
     "metadata": {},
     "output_type": "execute_result"
    }
   ],
   "execution_count": 31
  },
  {
   "metadata": {
    "ExecuteTime": {
     "end_time": "2025-08-23T09:53:59.615451Z",
     "start_time": "2025-08-23T09:53:59.608566Z"
    }
   },
   "cell_type": "code",
   "source": [
    "new_my_set = {1, 2, 2, 3, 4, 5, 5, 5}\n",
    "new_my_set"
   ],
   "id": "d7e4895aca468fc0",
   "outputs": [
    {
     "data": {
      "text/plain": [
       "{1, 2, 3, 4, 5}"
      ]
     },
     "execution_count": 33,
     "metadata": {},
     "output_type": "execute_result"
    }
   ],
   "execution_count": 33
  },
  {
   "metadata": {
    "ExecuteTime": {
     "end_time": "2025-08-23T09:57:59.559009Z",
     "start_time": "2025-08-23T09:57:59.555191Z"
    }
   },
   "cell_type": "code",
   "source": [
    "empty_set = {}\n",
    "type(empty_Set) # it is a dictionary"
   ],
   "id": "8b86fb975f015fa5",
   "outputs": [
    {
     "data": {
      "text/plain": [
       "dict"
      ]
     },
     "execution_count": 35,
     "metadata": {},
     "output_type": "execute_result"
    }
   ],
   "execution_count": 35
  },
  {
   "metadata": {
    "ExecuteTime": {
     "end_time": "2025-08-23T09:58:04.592622Z",
     "start_time": "2025-08-23T09:58:04.581663Z"
    }
   },
   "cell_type": "code",
   "source": [
    "empty_set = set()\n",
    "type(empty_set) # it is a set"
   ],
   "id": "4f9c7d564ddbd78",
   "outputs": [
    {
     "data": {
      "text/plain": [
       "set"
      ]
     },
     "execution_count": 36,
     "metadata": {},
     "output_type": "execute_result"
    }
   ],
   "execution_count": 36
  },
  {
   "metadata": {},
   "cell_type": "markdown",
   "source": [
    "# Tuples\n",
    "* Tuples are immutable, meaning you cannot change their content without changing their identity.\n",
    "* Tuples are ordered, meaning that the items have a defined order, and that order will not change.\n",
    "* Tuples allow duplicate values."
   ],
   "id": "d75184902e6feb8f"
  },
  {
   "metadata": {
    "ExecuteTime": {
     "end_time": "2025-08-23T09:59:32.632476Z",
     "start_time": "2025-08-23T09:59:32.626779Z"
    }
   },
   "cell_type": "code",
   "source": "my_tuple = (1, 2, 3, 4, 5)",
   "id": "87379750cea40abc",
   "outputs": [],
   "execution_count": 37
  },
  {
   "metadata": {
    "ExecuteTime": {
     "end_time": "2025-08-23T10:00:12.199713Z",
     "start_time": "2025-08-23T10:00:12.194054Z"
    }
   },
   "cell_type": "code",
   "source": "# my_tuple(0) = 10 # it will give an error because tuples are immutable",
   "id": "fb6ab3c5f7ca9e9d",
   "outputs": [],
   "execution_count": 39
  },
  {
   "metadata": {
    "ExecuteTime": {
     "end_time": "2025-08-23T13:29:49.312606Z",
     "start_time": "2025-08-23T13:29:47.795136Z"
    }
   },
   "cell_type": "code",
   "source": [
    "n = int(input())\n",
    "\n",
    "x = n - n\n",
    "z_list = []\n",
    "\n",
    "while x != n:\n",
    "    a = x * x\n",
    "    z_list.append(a)\n",
    "    x += 1\n",
    "\n",
    "print(z_list)\n"
   ],
   "id": "5208e863ef2c4685",
   "outputs": [
    {
     "name": "stdout",
     "output_type": "stream",
     "text": [
      "[0, 1, 4, 9, 16]\n"
     ]
    }
   ],
   "execution_count": 49
  },
  {
   "metadata": {
    "ExecuteTime": {
     "end_time": "2025-08-24T10:38:48.065990Z",
     "start_time": "2025-08-24T10:38:48.037427Z"
    }
   },
   "cell_type": "code",
   "source": [
    "x_list = [(\"a\", 1), (\"b\", 2), (\"c\", 3)]\n",
    "\n",
    "for i in x_list:\n",
    "    print(i)"
   ],
   "id": "bb694b061c06afeb",
   "outputs": [
    {
     "name": "stdout",
     "output_type": "stream",
     "text": [
      "('a', 1)\n",
      "('b', 2)\n",
      "('c', 3)\n"
     ]
    }
   ],
   "execution_count": 50
  },
  {
   "metadata": {
    "ExecuteTime": {
     "end_time": "2025-08-24T10:39:10.518934Z",
     "start_time": "2025-08-24T10:39:10.509038Z"
    }
   },
   "cell_type": "code",
   "source": [
    "for (i,j) in x_list:\n",
    "    print(i)\n",
    "    print(j)"
   ],
   "id": "1f69c1f009d60b35",
   "outputs": [
    {
     "name": "stdout",
     "output_type": "stream",
     "text": [
      "a\n",
      "1\n",
      "b\n",
      "2\n",
      "c\n",
      "3\n"
     ]
    }
   ],
   "execution_count": 52
  },
  {
   "metadata": {
    "ExecuteTime": {
     "end_time": "2025-08-24T10:42:57.924019Z",
     "start_time": "2025-08-24T10:42:57.911983Z"
    }
   },
   "cell_type": "code",
   "source": [
    "z_dict = {\"a\": 1, \"b\": 2, \"c\": 3}\n",
    "for i in z_dict:\n",
    "    print(i) # it will print the keys"
   ],
   "id": "7e8b741820a4af64",
   "outputs": [
    {
     "name": "stdout",
     "output_type": "stream",
     "text": [
      "a\n",
      "b\n",
      "c\n"
     ]
    }
   ],
   "execution_count": 53
  },
  {
   "metadata": {
    "ExecuteTime": {
     "end_time": "2025-08-24T10:44:11.644304Z",
     "start_time": "2025-08-24T10:44:11.641115Z"
    }
   },
   "cell_type": "code",
   "source": [
    "for (key, value) in z_dict.items():\n",
    "    print(key)"
   ],
   "id": "fe8224c68765d856",
   "outputs": [
    {
     "name": "stdout",
     "output_type": "stream",
     "text": [
      "a\n",
      "b\n",
      "c\n"
     ]
    }
   ],
   "execution_count": 58
  },
  {
   "metadata": {
    "ExecuteTime": {
     "end_time": "2025-08-24T10:49:19.969066Z",
     "start_time": "2025-08-24T10:49:19.964513Z"
    }
   },
   "cell_type": "code",
   "source": "print(f'The key is {z_dict.keys()} and the value is {z_dict.values()}')",
   "id": "31b0822f94b037ce",
   "outputs": [
    {
     "name": "stdout",
     "output_type": "stream",
     "text": [
      "The key is dict_keys(['a', 'b', 'c']) and the value is dict_values([1, 2, 3])\n"
     ]
    }
   ],
   "execution_count": 64
  },
  {
   "metadata": {
    "ExecuteTime": {
     "end_time": "2025-08-24T11:02:49.806609Z",
     "start_time": "2025-08-24T11:02:49.802518Z"
    }
   },
   "cell_type": "code",
   "source": [
    "f_list = list(range(10,50,10))\n",
    "f_list"
   ],
   "id": "f4d432c9fb19fc4d",
   "outputs": [
    {
     "data": {
      "text/plain": [
       "[10, 20, 30, 40]"
      ]
     },
     "execution_count": 77,
     "metadata": {},
     "output_type": "execute_result"
    }
   ],
   "execution_count": 77
  },
  {
   "metadata": {
    "ExecuteTime": {
     "end_time": "2025-08-24T11:02:57.736800Z",
     "start_time": "2025-08-24T11:02:57.733919Z"
    }
   },
   "cell_type": "code",
   "source": [
    "for ix in range(len(f_list)):\n",
    "    print(ix)"
   ],
   "id": "1dddada73c05ac83",
   "outputs": [
    {
     "name": "stdout",
     "output_type": "stream",
     "text": [
      "0\n",
      "1\n",
      "2\n",
      "3\n"
     ]
    }
   ],
   "execution_count": 79
  },
  {
   "metadata": {
    "ExecuteTime": {
     "end_time": "2025-08-24T11:02:59.946842Z",
     "start_time": "2025-08-24T11:02:59.942803Z"
    }
   },
   "cell_type": "code",
   "source": [
    "for element in enumerate(f_list):\n",
    "    print(element)"
   ],
   "id": "4e3efadef4be3fa5",
   "outputs": [
    {
     "name": "stdout",
     "output_type": "stream",
     "text": [
      "(0, 10)\n",
      "(1, 20)\n",
      "(2, 30)\n",
      "(3, 40)\n"
     ]
    }
   ],
   "execution_count": 80
  },
  {
   "metadata": {
    "ExecuteTime": {
     "end_time": "2025-08-24T11:03:02.111201Z",
     "start_time": "2025-08-24T11:03:02.108458Z"
    }
   },
   "cell_type": "code",
   "source": [
    "for (ix, value) in enumerate(f_list):\n",
    "    print(ix)"
   ],
   "id": "dec55e1122884844",
   "outputs": [
    {
     "name": "stdout",
     "output_type": "stream",
     "text": [
      "0\n",
      "1\n",
      "2\n",
      "3\n"
     ]
    }
   ],
   "execution_count": 81
  },
  {
   "metadata": {
    "ExecuteTime": {
     "end_time": "2025-08-24T11:05:22.899093Z",
     "start_time": "2025-08-24T11:05:22.892522Z"
    }
   },
   "cell_type": "code",
   "source": "from random import randint",
   "id": "298e6ee648e162e1",
   "outputs": [],
   "execution_count": 82
  },
  {
   "metadata": {
    "ExecuteTime": {
     "end_time": "2025-08-24T11:08:24.071632Z",
     "start_time": "2025-08-24T11:08:24.068262Z"
    }
   },
   "cell_type": "code",
   "source": "randint(0, 1) # inclusive 0 and 100",
   "id": "11561351ba82f31d",
   "outputs": [
    {
     "data": {
      "text/plain": [
       "0"
      ]
     },
     "execution_count": 88,
     "metadata": {},
     "output_type": "execute_result"
    }
   ],
   "execution_count": 88
  },
  {
   "metadata": {
    "ExecuteTime": {
     "end_time": "2025-08-24T11:10:47.610857Z",
     "start_time": "2025-08-24T11:10:47.607667Z"
    }
   },
   "cell_type": "code",
   "source": [
    "my_list = [10,20,30]\n",
    "\n",
    "my_list[randint(0, len(my_list)-1)]"
   ],
   "id": "2b59042a35d9582b",
   "outputs": [
    {
     "data": {
      "text/plain": [
       "30"
      ]
     },
     "execution_count": 96,
     "metadata": {},
     "output_type": "execute_result"
    }
   ],
   "execution_count": 96
  },
  {
   "metadata": {},
   "cell_type": "code",
   "outputs": [],
   "execution_count": null,
   "source": "",
   "id": "a352faad63a09ea0"
  },
  {
   "metadata": {},
   "cell_type": "code",
   "outputs": [],
   "execution_count": null,
   "source": "",
   "id": "13dd386eb1f86056"
  },
  {
   "metadata": {},
   "cell_type": "code",
   "outputs": [],
   "execution_count": null,
   "source": "",
   "id": "7a183b63f29bf5ee"
  }
 ],
 "metadata": {
  "kernelspec": {
   "display_name": "Python 3",
   "language": "python",
   "name": "python3"
  },
  "language_info": {
   "codemirror_mode": {
    "name": "ipython",
    "version": 2
   },
   "file_extension": ".py",
   "mimetype": "text/x-python",
   "name": "python",
   "nbconvert_exporter": "python",
   "pygments_lexer": "ipython2",
   "version": "2.7.6"
  }
 },
 "nbformat": 4,
 "nbformat_minor": 5
}
