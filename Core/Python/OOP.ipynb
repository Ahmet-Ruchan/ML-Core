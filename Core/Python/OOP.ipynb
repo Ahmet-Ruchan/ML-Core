{
 "cells": [
  {
   "metadata": {},
   "cell_type": "markdown",
   "source": "# Object-Oriented Programming (OOP)",
   "id": "899186d90e099384"
  },
  {
   "metadata": {
    "ExecuteTime": {
     "end_time": "2025-08-26T13:50:06.893741Z",
     "start_time": "2025-08-26T13:50:06.889514Z"
    }
   },
   "cell_type": "code",
   "source": [
    "class Dog():\n",
    "\n",
    "    year = 7 # Class Attribute\n",
    "\n",
    "    def __init__(self, age):\n",
    "        self.age = age # Attribute\n",
    "        self.dogHumanAge =  age * Dog.year # Attribute or self.year also works but it is not recommended\n",
    "\n",
    "    def human_age(self):\n",
    "        return self.age * Dog.year # Method to calculate human age\n",
    "        # return self.age * self.year # Method also works but it is not recommended"
   ],
   "id": "8c8e968ab0a1b19a",
   "outputs": [],
   "execution_count": 54
  },
  {
   "metadata": {
    "ExecuteTime": {
     "end_time": "2025-08-26T13:50:07.411758Z",
     "start_time": "2025-08-26T13:50:07.407314Z"
    }
   },
   "cell_type": "code",
   "source": [
    "dog_1 = Dog(3) # Instance of the Dog class\n",
    "\n",
    "print(dog_1.year)\n",
    "print(dog_1.age)\n",
    "\n",
    "print(dog_1.human_age())\n",
    "print(dog_1.dogHumanAge)"
   ],
   "id": "5a18acc8f4c73d92",
   "outputs": [
    {
     "name": "stdout",
     "output_type": "stream",
     "text": [
      "7\n",
      "3\n",
      "21\n",
      "21\n"
     ]
    }
   ],
   "execution_count": 55
  },
  {
   "cell_type": "code",
   "id": "initial_id",
   "metadata": {
    "collapsed": true,
    "ExecuteTime": {
     "end_time": "2025-08-24T17:43:38.288515Z",
     "start_time": "2025-08-24T17:43:38.284373Z"
    }
   },
   "source": [
    "# Create a Car Class with attributes like brand and model. Then create an instance of this class\n",
    "\n",
    "class Car:\n",
    "    def __init__(self, brand, model):\n",
    "        self.brand = brand\n",
    "        self.model = model\n",
    "\n",
    "car_1 = Car(\"Toyota\", \"Corolla\")\n",
    "print(car_1.brand)\n",
    "print(car_1.model)"
   ],
   "outputs": [
    {
     "name": "stdout",
     "output_type": "stream",
     "text": [
      "Toyota\n",
      "Corolla\n"
     ]
    }
   ],
   "execution_count": 2
  },
  {
   "metadata": {
    "ExecuteTime": {
     "end_time": "2025-08-24T17:47:38.882355Z",
     "start_time": "2025-08-24T17:47:38.868157Z"
    }
   },
   "cell_type": "code",
   "source": [
    "# Add  a method to the Car class that displays the full name of the car\n",
    "\n",
    "class Car:\n",
    "    def __init__(self, brand, model):\n",
    "        self.brand = brand\n",
    "        self.model = model\n",
    "\n",
    "    def get_full_name(self):\n",
    "        return f'{self.brand} {self.model}'\n",
    "\n",
    "car_1 = Car (\"Toyota\", \"Corolla\")\n",
    "print(car_1.get_full_name())"
   ],
   "id": "53d455a3e9a11c95",
   "outputs": [
    {
     "name": "stdout",
     "output_type": "stream",
     "text": [
      "Toyota Corolla\n"
     ]
    }
   ],
   "execution_count": 3
  },
  {
   "metadata": {},
   "cell_type": "markdown",
   "source": "# Inheritance",
   "id": "cfa37cf4ca0378e0"
  },
  {
   "metadata": {
    "ExecuteTime": {
     "end_time": "2025-08-24T18:03:07.450309Z",
     "start_time": "2025-08-24T18:03:07.440993Z"
    }
   },
   "cell_type": "code",
   "source": [
    "# Create an Electric Car class that inheritance from the Car class and an additional attribute batttery_size\n",
    "\n",
    "class Car:\n",
    "    def __init__(self, brand, model):\n",
    "        self.brand = brand # Attribute\n",
    "        self.model = model # Attribute\n",
    "\n",
    "    def get_full_name(self):\n",
    "        return f'{self.brand} {self.model} {self.battery_size}'\n",
    "\n",
    "class ElectricCar(Car): # Inheritance\n",
    "    def __init__(self, brand, model, battery_size): # New attribute for ElectricCar\n",
    "        super().__init__(brand, model) # Call the parent class's constructor\n",
    "        self.battery_size = battery_size # New attribute for ElectricCar\n",
    "\n",
    "car_1 = ElectricCar (\"Tesla\", \"Model S\", 100)\n",
    "print(car_1.brand) # Inherited attribute\n",
    "print(car_1.model) # Inherited attribute\n",
    "print(car_1.battery_size) # New attribute\n",
    "print(car_1.get_full_name())"
   ],
   "id": "9b23138383117ea4",
   "outputs": [
    {
     "name": "stdout",
     "output_type": "stream",
     "text": [
      "Tesla\n",
      "Model S\n",
      "100\n",
      "Tesla Model S 100\n"
     ]
    }
   ],
   "execution_count": 5
  },
  {
   "metadata": {},
   "cell_type": "markdown",
   "source": "# Encapsulation",
   "id": "9445d4402e9682e4"
  },
  {
   "metadata": {
    "ExecuteTime": {
     "end_time": "2025-08-24T18:35:08.861948Z",
     "start_time": "2025-08-24T18:35:08.855888Z"
    }
   },
   "cell_type": "code",
   "source": [
    "# Modify the Car class to encapsulate the brand attribute, making it private and provide a getter method for it\n",
    "\n",
    "class Car:\n",
    "    def __init__(self, brand, model):\n",
    "        self.__brand = brand # Private attribute\n",
    "        self.model = model # Public attribute\n",
    "\n",
    "    def get_brand(self): # Getter method for brand\n",
    "        return self.__brand # Accessing the private attribute\n",
    "\n",
    "    def get_full_name(self):\n",
    "        return f'{self.__brand} {self.model} {self.battery_size}'\n",
    "\n",
    "class ElectricCar(Car): # Inheritance\n",
    "    def __init__(self, brand, model, battery_size):\n",
    "        super().__init__(brand, model)\n",
    "        self.battery_size = battery_size\n",
    "\n",
    "car_1 = ElectricCar(\"Tesla\", \"Model S\", 100)\n",
    "print(car_1.get_brand()) # Accessing the private attribute via getter method\n",
    "print(car_1.model) # Public attribute\n",
    "print(car_1.battery_size) # New attribute\n",
    "print(car_1.get_full_name())\n",
    "#print(car_1.__brand) # It will give an error because __brand is private"
   ],
   "id": "cb5163cc5ef5cdd7",
   "outputs": [
    {
     "name": "stdout",
     "output_type": "stream",
     "text": [
      "Tesla\n",
      "Model S\n",
      "100\n",
      "Tesla Model S 100\n"
     ]
    }
   ],
   "execution_count": 8
  },
  {
   "metadata": {},
   "cell_type": "markdown",
   "source": "# Polymorphism",
   "id": "1342af7048ca38c9"
  },
  {
   "metadata": {
    "ExecuteTime": {
     "end_time": "2025-08-24T19:21:30.009011Z",
     "start_time": "2025-08-24T19:21:29.997189Z"
    }
   },
   "cell_type": "code",
   "source": [
    "# Demonstrate polymorphism by defining a method fuel_type in both Car and ElectricCar classes. but with different implementations.\n",
    "\n",
    "class Car:\n",
    "    def __init__(self, brand, model):\n",
    "        self.__brand = brand # Private attribute\n",
    "        self.model = model\n",
    "\n",
    "    def get_brand(self): # Getter method for brand\n",
    "        return self.__brand + \"!\"\n",
    "\n",
    "    def full_name(self): # Polymorphic method\n",
    "        return f'{self.__brand} {self.model}'\n",
    "\n",
    "    def fuel_type(self): # Polymorphic method\n",
    "        return \"Petrol od Diesel\"\n",
    "\n",
    "class ElectricCar(Car): # Inheritance\n",
    "    def __init__(self, brand, model, battery_size):\n",
    "        super().__init__(brand, model) # Inheritance\n",
    "        # or Car.__init__(self, brand, model) # Inheritance\n",
    "        self.battery_size = battery_size\n",
    "\n",
    "    def fuel_type(self): # Polymorphic method\n",
    "        return \"Electric\" # Different implementation\n",
    "\n",
    "    def full_name(self): # Polymorphic method\n",
    "        return f'{self.get_brand()} {self.model} {self.battery_size}' # Different implementation\n",
    "\n",
    "car_1 = Car(\"Toyota\", \"Corolla\")\n",
    "car_2 = ElectricCar(\"Tesla\", \"Model S\", 100)\n",
    "\n",
    "print(car_1.fuel_type()) # Petrol or Diesel\n",
    "print(car_2.fuel_type()) # Electric\n",
    "print(car_1.get_brand()) # Accessing the private attribute via getter method\n",
    "print(f'car_1 full name: {car_1.full_name()} , car_2 full name: {car_2.full_name()}') # Different implementations of full_name method\n"
   ],
   "id": "a7d018ba5fc45e6f",
   "outputs": [
    {
     "name": "stdout",
     "output_type": "stream",
     "text": [
      "Petrol od Diesel\n",
      "Electric\n",
      "Toyota!\n",
      "car_1 full name: Toyota Corolla , car_2 full name: Tesla! Model S 100\n"
     ]
    }
   ],
   "execution_count": 19
  },
  {
   "metadata": {},
   "cell_type": "markdown",
   "source": "# Abstraction",
   "id": "45e2d5e79973a5ac"
  },
  {
   "metadata": {
    "ExecuteTime": {
     "end_time": "2025-08-26T14:18:24.056703Z",
     "start_time": "2025-08-26T14:18:24.044586Z"
    }
   },
   "cell_type": "code",
   "source": [
    "from abc import ABC, abstractmethod\n",
    "\n",
    "class Car(ABC): # Abstract Base Class\n",
    "\n",
    "    @abstractmethod\n",
    "    def max_speed(self): # Abstract method\n",
    "        pass\n",
    "\n",
    "class SportsCar(Car): # Inheritance\n",
    "    def max_speed(self): # Implementing the abstract method\n",
    "        return 250\n",
    "\n",
    "class FamilyCar(Car): # Inheritance\n",
    "    def max_speed(self): # Implementing the abstract method\n",
    "        pass # FamilyCar does not implement max_speed method\n",
    "\n",
    "my_car = SportsCar()\n",
    "your_car = FamilyCar() # This will give an error because FamilyCar does not implement max_speed method\n",
    "\n",
    "print(my_car.max_speed())\n",
    "print(your_car.max_speed()) # This will give an error because FamilyCar does not implement max_speed method"
   ],
   "id": "55046805ccb3c4e1",
   "outputs": [
    {
     "name": "stdout",
     "output_type": "stream",
     "text": [
      "250\n",
      "None\n"
     ]
    }
   ],
   "execution_count": 61
  },
  {
   "metadata": {
    "ExecuteTime": {
     "end_time": "2025-08-25T19:08:00.053036Z",
     "start_time": "2025-08-25T19:08:00.024944Z"
    }
   },
   "cell_type": "markdown",
   "source": "# args and kwargs (arguments and keyword arguments)",
   "id": "c03b512c7c15bf27"
  },
  {
   "metadata": {
    "ExecuteTime": {
     "end_time": "2025-08-25T19:14:19.785153Z",
     "start_time": "2025-08-25T19:14:19.780536Z"
    }
   },
   "cell_type": "code",
   "source": [
    "# Demonstrate the use of *args by creating a function that takes a variable number of arguments and returns their sum\n",
    "def args_func(*args): # args is a tuple of arguments\n",
    "    return sum(args)"
   ],
   "id": "d80188cec5fa1320",
   "outputs": [],
   "execution_count": 23
  },
  {
   "metadata": {
    "ExecuteTime": {
     "end_time": "2025-08-25T19:14:20.191859Z",
     "start_time": "2025-08-25T19:14:20.188799Z"
    }
   },
   "cell_type": "code",
   "source": "print(args_func(3,4,5))",
   "id": "a1493df5168f1361",
   "outputs": [
    {
     "name": "stdout",
     "output_type": "stream",
     "text": [
      "12\n"
     ]
    }
   ],
   "execution_count": 24
  },
  {
   "metadata": {
    "ExecuteTime": {
     "end_time": "2025-08-25T19:14:50.199220Z",
     "start_time": "2025-08-25T19:14:50.191619Z"
    }
   },
   "cell_type": "code",
   "source": [
    "def kwargs_func(**kwargs): # kwargs is a dictionary of keyword arguments\n",
    "    for key, value in kwargs.items(): # items() method returns a list of tuples (key, value)\n",
    "        print(f'{key}: {value}')"
   ],
   "id": "904cb70e80212122",
   "outputs": [],
   "execution_count": 25
  },
  {
   "metadata": {
    "ExecuteTime": {
     "end_time": "2025-08-25T19:15:24.464880Z",
     "start_time": "2025-08-25T19:15:24.457765Z"
    }
   },
   "cell_type": "code",
   "source": "kwargs_func(apple=100, banana=200, orange=300)",
   "id": "13c608b3d61f23cf",
   "outputs": [
    {
     "name": "stdout",
     "output_type": "stream",
     "text": [
      "apple: 100\n",
      "banana: 200\n",
      "orange: 300\n"
     ]
    }
   ],
   "execution_count": 26
  },
  {
   "metadata": {},
   "cell_type": "markdown",
   "source": "# map(), filter(), and reduce(), lambda() functions",
   "id": "bcf127f5bbc61af1"
  },
  {
   "metadata": {
    "ExecuteTime": {
     "end_time": "2025-08-25T19:23:58.711345Z",
     "start_time": "2025-08-25T19:23:58.704390Z"
    }
   },
   "cell_type": "code",
   "source": [
    "def divide_num(num):\n",
    "    return num / 2\n",
    "\n",
    "numbers = [10, 20, 30, 40, 50]\n",
    "\n",
    "result = map(divide_num, numbers) # map() function applies the function to each item in the iterable\n",
    "print(list(result)) # Convert the map object to a list to see the results"
   ],
   "id": "a133201ab1403f49",
   "outputs": [
    {
     "name": "stdout",
     "output_type": "stream",
     "text": [
      "[5.0, 10.0, 15.0, 20.0, 25.0]\n"
     ]
    }
   ],
   "execution_count": 27
  },
  {
   "metadata": {
    "ExecuteTime": {
     "end_time": "2025-08-25T19:28:35.024030Z",
     "start_time": "2025-08-25T19:28:35.020303Z"
    }
   },
   "cell_type": "code",
   "source": [
    "# filter() function filters the items in the iterable based on the function\n",
    "def is_even(num):\n",
    "    return num % 2 == 0\n",
    "\n",
    "numbers = [10, 15, 20, 25, 30]\n",
    "\n",
    "result = filter(is_even, numbers) # filter() function applies the function to each item in the iterable\n",
    "result_map = map(divide_num, numbers) # map() function applies the function to each item in the iterable\n",
    "\n",
    "print(list(result)) # Convert\n",
    "print(list(result_map)) # Convert the map object to a list to see the results"
   ],
   "id": "6db9008850e4702a",
   "outputs": [
    {
     "name": "stdout",
     "output_type": "stream",
     "text": [
      "[10, 20, 30]\n",
      "[5.0, 7.5, 10.0, 12.5, 15.0]\n"
     ]
    }
   ],
   "execution_count": 30
  },
  {
   "metadata": {
    "ExecuteTime": {
     "end_time": "2025-08-25T19:42:20.324142Z",
     "start_time": "2025-08-25T19:42:20.319214Z"
    }
   },
   "cell_type": "code",
   "source": [
    "# reduce() function reduces the iterable to a single value based on the function\n",
    "from functools import reduce\n",
    "\n",
    "def add_num(x, y):\n",
    "    return x + y\n",
    "\n",
    "numbers = [10, 20, 30, 40, 50]\n",
    "\n",
    "result = reduce(add_num, numbers) # reduce() function applies the function to the iterable\n",
    "print(result)"
   ],
   "id": "3e10829bf58d4884",
   "outputs": [
    {
     "name": "stdout",
     "output_type": "stream",
     "text": [
      "150\n"
     ]
    }
   ],
   "execution_count": 32
  },
  {
   "metadata": {
    "ExecuteTime": {
     "end_time": "2025-08-25T19:43:06.807189Z",
     "start_time": "2025-08-25T19:43:06.800601Z"
    }
   },
   "cell_type": "code",
   "source": [
    "# lambda() function is an anonymous function that can take any number of arguments but can only have one expression\n",
    "\n",
    "numbers = [10, 20, 30, 40, 50]\n",
    "\n",
    "result = map(lambda x: x / 2, numbers) # lambda function to divide each number by 2\n",
    "print(list(result)) # Convert the map object to a list to see the results"
   ],
   "id": "3216d020132a8cb0",
   "outputs": [
    {
     "name": "stdout",
     "output_type": "stream",
     "text": [
      "[5.0, 10.0, 15.0, 20.0, 25.0]\n"
     ]
    }
   ],
   "execution_count": 33
  },
  {
   "metadata": {},
   "cell_type": "markdown",
   "source": "#LEGB Local, Enclosing, Global, Built-in",
   "id": "dfbfde848a5aaf47"
  },
  {
   "metadata": {
    "ExecuteTime": {
     "end_time": "2025-08-26T08:47:12.102036Z",
     "start_time": "2025-08-26T08:47:12.092613Z"
    }
   },
   "cell_type": "code",
   "source": [
    "#LEGB scope rule from inner to outer\n",
    "# Local -> Enclosing -> Global -> Built-in\n",
    "\n",
    "x = \"global x\" # Global variable\n",
    "def outer_func():\n",
    "    x = \"enclosing x\" # Enclosing variable\n",
    "    def inner_func():\n",
    "        x = \"local x\" # Local variable\n",
    "        print(x) # It will print the local variable\n",
    "    inner_func()\n",
    "    print(x) # It will print the enclosing variable\n",
    "\n",
    "outer_func()\n",
    "print(x) # It will print the global variable"
   ],
   "id": "b722d945305d5066",
   "outputs": [
    {
     "name": "stdout",
     "output_type": "stream",
     "text": [
      "local x\n",
      "enclosing x\n",
      "global x\n"
     ]
    }
   ],
   "execution_count": 36
  },
  {
   "metadata": {
    "ExecuteTime": {
     "end_time": "2025-08-26T10:55:45.670231Z",
     "start_time": "2025-08-26T10:55:45.663935Z"
    }
   },
   "cell_type": "code",
   "source": [
    "y = 5\n",
    "x = 1\n",
    "print(y)\n",
    "print(x)"
   ],
   "id": "2246f5a86d2f640e",
   "outputs": [
    {
     "name": "stdout",
     "output_type": "stream",
     "text": [
      "5\n"
     ]
    }
   ],
   "execution_count": 42
  },
  {
   "metadata": {
    "ExecuteTime": {
     "end_time": "2025-08-26T10:56:20.457805Z",
     "start_time": "2025-08-26T10:56:20.453104Z"
    }
   },
   "cell_type": "code",
   "source": [
    "def changeY():\n",
    "    global y # Declare y as global to modify the global variable\n",
    "    y = 10\n",
    "\n",
    "def changeX():\n",
    "    x = 20 # This will create a new local variable x"
   ],
   "id": "db0a1f0ad61c82d4",
   "outputs": [],
   "execution_count": 45
  },
  {
   "metadata": {
    "ExecuteTime": {
     "end_time": "2025-08-26T10:56:21.142419Z",
     "start_time": "2025-08-26T10:56:21.139127Z"
    }
   },
   "cell_type": "code",
   "source": [
    "changeY()\n",
    "changeX()\n",
    "\n",
    "print(y)\n",
    "print(x)"
   ],
   "id": "96ae363ecc5cee3",
   "outputs": [
    {
     "name": "stdout",
     "output_type": "stream",
     "text": [
      "10\n",
      "1\n"
     ]
    }
   ],
   "execution_count": 46
  },
  {
   "metadata": {},
   "cell_type": "markdown",
   "source": "# Special Methods",
   "id": "284ed459ff25a53"
  },
  {
   "metadata": {
    "ExecuteTime": {
     "end_time": "2025-08-30T12:52:26.662155Z",
     "start_time": "2025-08-30T12:52:26.632613Z"
    }
   },
   "cell_type": "code",
   "source": [
    "class Book:\n",
    "    def __init__(self, title, author):\n",
    "        self.title = title\n",
    "        self.author = author\n",
    "\n",
    "    def __str__(self): # Special method to return a string representation of the object\n",
    "        return f'{self.title} by {self.author}'\n",
    "\n",
    "    def __len__(self): # Special method to return the length of the object\n",
    "        return len(self.title) + len(self.author)\n",
    "\n",
    "    def __add__(self, other): # Special method to add two objects\n",
    "        return f'{self.title} & {other.title} by {self.author} and {other.author}'\n",
    "\n",
    "book1 = Book(\"The Great Gatsby\", \"F. Scott Fitzgerald\")\n",
    "book2 = Book(\"1984\", \"George Orwell\")\n",
    "\n",
    "print(book1) # It will call the __str__ method\n",
    "print(len(book1)) # It will call the __len__ method\n",
    "print(book1 + book2) # It will call the __add__ method"
   ],
   "id": "b8c286f3c6a3a8cf",
   "outputs": [
    {
     "name": "stdout",
     "output_type": "stream",
     "text": [
      "The Great Gatsby by F. Scott Fitzgerald\n",
      "35\n",
      "The Great Gatsby & 1984 by F. Scott Fitzgerald and George Orwell\n"
     ]
    }
   ],
   "execution_count": 62
  },
  {
   "metadata": {},
   "cell_type": "markdown",
   "source": "# Static Methods and Class Methods",
   "id": "62fb26391ffc5dbc"
  },
  {
   "metadata": {
    "ExecuteTime": {
     "end_time": "2025-09-01T18:30:09.441021Z",
     "start_time": "2025-09-01T18:30:09.428433Z"
    }
   },
   "cell_type": "code",
   "source": [
    "# Static Methods and Class Methods\n",
    "\n",
    "class Person:\n",
    "\n",
    "    total_person = 0 # Class attribute\n",
    "\n",
    "    def __init__(self, name, age):\n",
    "        self.name = name # Instance attribute\n",
    "        self.age = age # Instance attribute\n",
    "        Person.total_person += 1 # Increment the class attribute\n",
    "\n",
    "    def display(self): # Instance method\n",
    "        return f'{self.name} is {self.age} years old'\n",
    "\n",
    "    @classmethod\n",
    "    def get_total_person(cls): # Class method\n",
    "        return cls.total_person # Accessing the class attribute\n",
    "\n",
    "    @staticmethod\n",
    "    def is_adult(age): # Static method\n",
    "        return age >= 18 # Check if the age is greater than or equal to 18\n",
    "\n",
    "person1 = Person(\"Alice\", 30)\n",
    "person2 = Person(\"Bob\", 15)\n",
    "\n",
    "print(person1.display()) # Instance method\n",
    "print(person2.display()) # Instance method\n",
    "\n",
    "print(Person.get_total_person()) # Class method\n",
    "\n",
    "print(Person.is_adult(20)) # Static method"
   ],
   "id": "d99f2713952c29a8",
   "outputs": [
    {
     "name": "stdout",
     "output_type": "stream",
     "text": [
      "Alice is 30 years old\n",
      "Bob is 15 years old\n",
      "2\n",
      "True\n"
     ]
    }
   ],
   "execution_count": 64
  },
  {
   "metadata": {
    "ExecuteTime": {
     "end_time": "2025-09-01T18:29:39.204990Z",
     "start_time": "2025-09-01T18:29:39.201729Z"
    }
   },
   "cell_type": "code",
   "source": "",
   "id": "d74da2ee91e7711e",
   "outputs": [],
   "execution_count": null
  }
 ],
 "metadata": {
  "kernelspec": {
   "display_name": "Python 3",
   "language": "python",
   "name": "python3"
  },
  "language_info": {
   "codemirror_mode": {
    "name": "ipython",
    "version": 2
   },
   "file_extension": ".py",
   "mimetype": "text/x-python",
   "name": "python",
   "nbconvert_exporter": "python",
   "pygments_lexer": "ipython2",
   "version": "2.7.6"
  }
 },
 "nbformat": 4,
 "nbformat_minor": 5
}
