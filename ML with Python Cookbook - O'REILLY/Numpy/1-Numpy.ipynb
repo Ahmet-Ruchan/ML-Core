{
 "cells": [
  {
   "cell_type": "code",
   "id": "initial_id",
   "metadata": {
    "collapsed": true,
    "ExecuteTime": {
     "end_time": "2025-09-08T19:41:06.240067Z",
     "start_time": "2025-09-08T19:41:06.238542Z"
    }
   },
   "source": "import numpy as np",
   "outputs": [],
   "execution_count": 1
  },
  {
   "metadata": {},
   "cell_type": "markdown",
   "source": "### Sparse Matrix",
   "id": "5fe2b2e1fc84db90"
  },
  {
   "metadata": {
    "ExecuteTime": {
     "end_time": "2025-09-08T19:42:37.955748Z",
     "start_time": "2025-09-08T19:42:37.941725Z"
    }
   },
   "cell_type": "code",
   "source": [
    "# Creating a matrix using numpy\n",
    "from scipy import sparse\n",
    "\n",
    "matrix = np.array([[0, 0, 3],\n",
    "                   [4, 0, 0],\n",
    "                   [0, 0, 5]])\n",
    "matrix.shape"
   ],
   "id": "c200be3fb7f6e99b",
   "outputs": [
    {
     "data": {
      "text/plain": [
       "(3, 3)"
      ]
     },
     "execution_count": 3,
     "metadata": {},
     "output_type": "execute_result"
    }
   ],
   "execution_count": 3
  },
  {
   "metadata": {
    "ExecuteTime": {
     "end_time": "2025-09-08T19:42:42.710242Z",
     "start_time": "2025-09-08T19:42:42.707271Z"
    }
   },
   "cell_type": "code",
   "source": "matrix.size",
   "id": "b29d25a223d6ef59",
   "outputs": [
    {
     "data": {
      "text/plain": [
       "9"
      ]
     },
     "execution_count": 4,
     "metadata": {},
     "output_type": "execute_result"
    }
   ],
   "execution_count": 4
  },
  {
   "metadata": {
    "ExecuteTime": {
     "end_time": "2025-09-08T19:43:41.907473Z",
     "start_time": "2025-09-08T19:43:41.898700Z"
    }
   },
   "cell_type": "code",
   "source": [
    "# Create compressed sparse row (CSR) matrix\n",
    "sparse_matrix = sparse.csr_matrix(matrix)\n",
    "sparse_matrix"
   ],
   "id": "c9711f97708ec870",
   "outputs": [
    {
     "data": {
      "text/plain": [
       "<3x3 sparse matrix of type '<class 'numpy.int64'>'\n",
       "\twith 3 stored elements in Compressed Sparse Row format>"
      ]
     },
     "execution_count": 5,
     "metadata": {},
     "output_type": "execute_result"
    }
   ],
   "execution_count": 5
  },
  {
   "metadata": {
    "ExecuteTime": {
     "end_time": "2025-09-08T19:43:49.652250Z",
     "start_time": "2025-09-08T19:43:49.647778Z"
    }
   },
   "cell_type": "code",
   "source": [
    "print(sparse_matrix)\n",
    "# sparse matrix has 3 stored elements out of 9, that only the non-zero elements are stored"
   ],
   "id": "241739d023de41e9",
   "outputs": [
    {
     "name": "stdout",
     "output_type": "stream",
     "text": [
      "  (0, 2)\t3\n",
      "  (1, 0)\t4\n",
      "  (2, 2)\t5\n"
     ]
    }
   ],
   "execution_count": 6
  },
  {
   "metadata": {},
   "cell_type": "markdown",
   "source": "### Applying Functions over Each Element",
   "id": "e3d723485289d724"
  },
  {
   "metadata": {
    "ExecuteTime": {
     "end_time": "2025-09-08T19:49:35.274590Z",
     "start_time": "2025-09-08T19:49:35.265793Z"
    }
   },
   "cell_type": "code",
   "source": [
    "# Use the NumPy vectorized operations to apply functions over each element\n",
    "\n",
    "matrix = np.array([[1, 2, 3],\n",
    "                   [4, 5, 6],\n",
    "                   [7, 8, 9]])\n",
    "\n",
    "# Applying a function to each element\n",
    "add_100 = lambda i: i + 100\n",
    "\n",
    "vectorized_add_100 = np.vectorize(add_100)\n",
    "\n",
    "result = vectorized_add_100(matrix)\n",
    "result"
   ],
   "id": "d992479eb638a1f9",
   "outputs": [
    {
     "data": {
      "text/plain": [
       "array([[101, 102, 103],\n",
       "       [104, 105, 106],\n",
       "       [107, 108, 109]])"
      ]
     },
     "execution_count": 7,
     "metadata": {},
     "output_type": "execute_result"
    }
   ],
   "execution_count": 7
  },
  {
   "metadata": {
    "ExecuteTime": {
     "end_time": "2025-09-08T19:51:35.503286Z",
     "start_time": "2025-09-08T19:51:35.495951Z"
    }
   },
   "cell_type": "code",
   "source": [
    "# You can also use broadcasting for element-wise operations\n",
    "result_broadcast = matrix + 100\n",
    "result_broadcast"
   ],
   "id": "ee4551db881aebd6",
   "outputs": [
    {
     "data": {
      "text/plain": [
       "array([[101, 102, 103],\n",
       "       [104, 105, 106],\n",
       "       [107, 108, 109]])"
      ]
     },
     "execution_count": 8,
     "metadata": {},
     "output_type": "execute_result"
    }
   ],
   "execution_count": 8
  },
  {
   "metadata": {},
   "cell_type": "code",
   "outputs": [],
   "execution_count": null,
   "source": [
    "#is pandas and numpy axis same? Yes\n",
    "# axis=0 -> column wise operation\n",
    "# axis=1 -> row wise operation"
   ],
   "id": "5c3c973e62f8b464"
  },
  {
   "metadata": {},
   "cell_type": "code",
   "outputs": [],
   "execution_count": null,
   "source": "",
   "id": "e32e2f656745f330"
  }
 ],
 "metadata": {
  "kernelspec": {
   "display_name": "Python 3",
   "language": "python",
   "name": "python3"
  },
  "language_info": {
   "codemirror_mode": {
    "name": "ipython",
    "version": 2
   },
   "file_extension": ".py",
   "mimetype": "text/x-python",
   "name": "python",
   "nbconvert_exporter": "python",
   "pygments_lexer": "ipython2",
   "version": "2.7.6"
  }
 },
 "nbformat": 4,
 "nbformat_minor": 5
}
